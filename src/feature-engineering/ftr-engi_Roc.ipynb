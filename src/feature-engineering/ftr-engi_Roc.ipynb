{
 "cells": [
  {
   "cell_type": "code",
   "execution_count": 1,
   "metadata": {},
   "outputs": [
    {
     "data": {
      "text/plain": [
       "RendererRegistry.enable('mimetype')"
      ]
     },
     "execution_count": 1,
     "metadata": {},
     "output_type": "execute_result"
    }
   ],
   "source": [
    "# import basics\n",
    "import pandas as pd\n",
    "import numpy as np\n",
    "\n",
    "# import tools\n",
    "from sklearn.model_selection import train_test_split, cross_val_score\n",
    "from sklearn.preprocessing import OneHotEncoder\n",
    "from sklearn.preprocessing import StandardScaler\n",
    "from sklearn.compose import ColumnTransformer\n",
    "from sklearn.impute import SimpleImputer\n",
    "from sklearn.pipeline import Pipeline\n",
    "\n",
    "# import models\n",
    "from sklearn.dummy import DummyRegressor\n",
    "from sklearn.linear_model import LinearRegression\n",
    "from sklearn.tree import DecisionTreeRegressor\n",
    "from sklearn.ensemble import RandomForestRegressor\n",
    "from sklearn.svm import SVR\n",
    "from lightgbm import LGBMRegressor\n",
    "\n",
    "# import viz\n",
    "import altair as alt\n",
    "alt.renderers.enable('mimetype') # for altair plots to be properly rendered on GH"
   ]
  },
  {
   "cell_type": "code",
   "execution_count": 5,
   "metadata": {},
   "outputs": [],
   "source": [
    "def load_X_y():\n",
    "    df = pd.read_csv(\"../../data/train.csv\")\n",
    "    y = np.log(df['SalePrice']) # using the logarithm as the target\n",
    "    X = df.drop(columns=['SalePrice', 'Id']).copy() # dropped ID col too\n",
    "    \n",
    "    return X, y"
   ]
  },
  {
   "cell_type": "code",
   "execution_count": 12,
   "metadata": {},
   "outputs": [],
   "source": [
    "def run_base_model(X, y, make_plot=True):\n",
    "    X_train, X_test, y_train, y_test = train_test_split(X,\n",
    "                                                    y,\n",
    "                                                    test_size=0.3,\n",
    "                                                    random_state=9527)\n",
    "    # create the list of cols to drop based on missing rate\n",
    "    missing_rates = (X_train.isnull().sum()/X_train.shape[0]).sort_values(ascending=False)[:20]\n",
    "    cols_drop = list(missing_rates[:5].index)\n",
    "\n",
    "    # create list of categorical and numerical columns\n",
    "    cat_cols = [x for x in X_train.columns[[(x=='object') for x in X_train.dtypes]] if x not in cols_drop]\n",
    "    num_cols = [x for x in X_train.columns if (x not in cat_cols) and (x not in cols_drop)]\n",
    "\n",
    "    assert len(cat_cols) + len(num_cols) + len(cols_drop) == X_train.shape[1]\n",
    "\n",
    "    # define pipeline steps\n",
    "    numeric_transformer = Pipeline(steps=[\n",
    "        ('imputer', SimpleImputer(np.nan, 'mean')),\n",
    "        ('scaler', StandardScaler())\n",
    "    ])\n",
    "\n",
    "    categoric_transformer = Pipeline(steps=[\n",
    "        ('imputer', SimpleImputer(missing_values=np.nan,\n",
    "                                  strategy='most_frequent')),\n",
    "        (\"ohe\", OneHotEncoder(handle_unknown='ignore'))\n",
    "    ])\n",
    "\n",
    "    preprocessor = ColumnTransformer(remainder='drop', transformers=[\n",
    "        ('num', numeric_transformer, num_cols),\n",
    "        ('cat', categoric_transformer, cat_cols)\n",
    "    ])\n",
    "\n",
    "    # define base models with default hyp-params\n",
    "    model = LGBMRegressor()\n",
    "\n",
    "    # run LGBM with 10-fold CV, RMSE scoring\n",
    "    ppl = Pipeline(steps=[('preprocessor', preprocessor),\n",
    "                      ('regressor', model)]) # create pipeline object\n",
    "    ppl.fit(X_train, y_train)\n",
    "    score = cross_val_score(ppl, X_train, y_train, scoring='neg_root_mean_squared_error', cv=10).mean() * -1 # 10-fold cv RMSE score\n",
    "\n",
    "    print(\"LGBM 10-fold cv RMSE: {:.3f}\".format(score))\n",
    "\n",
    "    # get ohe column names\n",
    "    ohe_col_names = ppl['preprocessor'].transformers_[1][1]['ohe'].get_feature_names(cat_cols)\n",
    "\n",
    "    ftr_imptns = ppl['regressor'].feature_importances_\n",
    "\n",
    "    assert len(num_cols) + len(ohe_col_names)  == len(ftr_imptns)\n",
    "\n",
    "    mdl_col_names = num_cols + list(ohe_col_names)\n",
    "\n",
    "    # visualize LGBM important features\n",
    "\n",
    "    ftr_imptns_df = pd.DataFrame({\"feature\": mdl_col_names,\n",
    "                 \"importance\": ftr_imptns})\n",
    "    ftr_imptns_df = ftr_imptns_df.sort_values('importance', ascending = False).reset_index(drop=True)\n",
    "\n",
    "    n = 30 # how many top features to display in the plot\n",
    "    bars = alt.Chart(ftr_imptns_df.iloc[:n, :]).mark_bar().encode(\n",
    "        x='importance:Q',\n",
    "        y=alt.Y('feature:O', sort='-x')\n",
    "    )\n",
    "    \n",
    "    if make_plot==True:\n",
    "        return bars.properties(\n",
    "            title=\"LGBM - feature importance (top30)\"\n",
    "        )\n",
    "    else:\n",
    "        return"
   ]
  },
  {
   "cell_type": "code",
   "execution_count": 14,
   "metadata": {},
   "outputs": [
    {
     "name": "stdout",
     "output_type": "stream",
     "text": [
      "LGBM 10-fold cv RMSE: 0.133\n"
     ]
    },
    {
     "data": {
      "application/vnd.vegalite.v4+json": {
       "$schema": "https://vega.github.io/schema/vega-lite/v4.0.2.json",
       "config": {
        "view": {
         "continuousHeight": 300,
         "continuousWidth": 400
        }
       },
       "data": {
        "name": "data-1c4c5a735853a5efcb40b7034bec2969"
       },
       "datasets": {
        "data-1c4c5a735853a5efcb40b7034bec2969": [
         {
          "feature": "LotArea",
          "importance": 214
         },
         {
          "feature": "GrLivArea",
          "importance": 197
         },
         {
          "feature": "GarageArea",
          "importance": 165
         },
         {
          "feature": "TotalBsmtSF",
          "importance": 155
         },
         {
          "feature": "1stFlrSF",
          "importance": 153
         },
         {
          "feature": "BsmtFinSF1",
          "importance": 136
         },
         {
          "feature": "YearBuilt",
          "importance": 117
         },
         {
          "feature": "BsmtUnfSF",
          "importance": 111
         },
         {
          "feature": "YearRemodAdd",
          "importance": 100
         },
         {
          "feature": "GarageYrBlt",
          "importance": 97
         },
         {
          "feature": "LotFrontage",
          "importance": 94
         },
         {
          "feature": "OpenPorchSF",
          "importance": 91
         },
         {
          "feature": "OverallCond",
          "importance": 85
         },
         {
          "feature": "MoSold",
          "importance": 85
         },
         {
          "feature": "OverallQual",
          "importance": 82
         },
         {
          "feature": "WoodDeckSF",
          "importance": 73
         },
         {
          "feature": "MasVnrArea",
          "importance": 71
         },
         {
          "feature": "YrSold",
          "importance": 46
         },
         {
          "feature": "EnclosedPorch",
          "importance": 43
         },
         {
          "feature": "2ndFlrSF",
          "importance": 43
         },
         {
          "feature": "MSSubClass",
          "importance": 35
         },
         {
          "feature": "GarageCars",
          "importance": 31
         },
         {
          "feature": "Fireplaces",
          "importance": 26
         },
         {
          "feature": "TotRmsAbvGrd",
          "importance": 25
         },
         {
          "feature": "SaleCondition_Normal",
          "importance": 25
         },
         {
          "feature": "BsmtExposure_No",
          "importance": 21
         },
         {
          "feature": "BsmtFullBath",
          "importance": 21
         },
         {
          "feature": "SaleCondition_Abnorml",
          "importance": 20
         },
         {
          "feature": "ScreenPorch",
          "importance": 19
         },
         {
          "feature": "BedroomAbvGr",
          "importance": 17
         }
        ]
       },
       "encoding": {
        "x": {
         "field": "importance",
         "type": "quantitative"
        },
        "y": {
         "field": "feature",
         "sort": "-x",
         "type": "ordinal"
        }
       },
       "mark": "bar",
       "title": "LGBM - feature importance (top30)"
      },
      "image/png": "[encoded data removed]",
      "text/plain": [
       "<VegaLite 4 object>\n",
       "\n",
       "If you see this message, it means the renderer has not been properly enabled\n",
       "for the frontend that you are using. For more information, see\n",
       "https://altair-viz.github.io/user_guide/troubleshooting.html\n"
      ]
     },
     "execution_count": 14,
     "metadata": {},
     "output_type": "execute_result"
    }
   ],
   "source": [
    "X, y = load_X_y()\n",
    "run_base_model(X, y, make_plot=True)"
   ]
  },
  {
   "cell_type": "markdown",
   "metadata": {},
   "source": [
    "## ideas for feature engineering:  \n",
    "1. Make sure numerical and categorical features are accurately classified.(Some numeric features are actually categorical, while some categorical features could be numerical.)  \n",
    "2. Try to synthesize some new features. "
   ]
  },
  {
   "cell_type": "markdown",
   "metadata": {},
   "source": [
    "### <font color='blue'>transfer categorical type of cols to numerical type</font> "
   ]
  },
  {
   "cell_type": "code",
   "execution_count": 15,
   "metadata": {},
   "outputs": [],
   "source": [
    "cat_to_num_cols_1 = ['ExterQual', 'ExterCond', 'BsmtQual', 'BsmtCond', 'HeatingQC', 'KitchenQual', 'FireplaceQu', 'GarageQual', 'GarageCond', 'PoolQC']\n",
    "cat_to_num_dict_1 = {'Ex': 5, 'Gd': 4, 'TA': 3, 'Fa': 2, 'Po': 1, np.NaN: 0}\n",
    "cat_to_num_cols_2 = ['BsmtExposure']\n",
    "cat_to_num_dict_2 = {'Gd': 4, 'Av': 3, 'Mn': 2, 'No': 1, np.NaN: 0}\n",
    "cat_to_num_cols_3 = ['BsmtFinType1', 'BsmtFinType2']\n",
    "cat_to_num_dict_3 = {'GLQ': 6, 'ALQ': 5, 'BLQ': 4, 'Rec': 3, 'LwQ': 2, 'Unf': 1, np.NaN: 0}\n",
    "cat_to_num_cols_4 = ['GarageFinish']\n",
    "cat_to_num_dict_4 = {'Fin': 3, 'RFn': 2, 'Unf': 1, np.NaN: 0}\n",
    "cat_to_num_cols_5 = ['Fence']\n",
    "cat_to_num_dict_5 = {'GdPrv': 4, 'MnPrv': 3, 'GdWo': 2, 'MnWw': 1, np.NaN: 0}"
   ]
  },
  {
   "cell_type": "code",
   "execution_count": 16,
   "metadata": {},
   "outputs": [],
   "source": [
    "def cat_to_num(X):\n",
    "    temp = X.copy()\n",
    "    for x in range(1, 6):\n",
    "        cols = eval('cat_to_num_cols_' + str(x))\n",
    "        d = eval('cat_to_num_dict_' + str(x))\n",
    "        for y in cols: \n",
    "            temp[y].replace(d, inplace=True)\n",
    "    return temp"
   ]
  },
  {
   "cell_type": "markdown",
   "metadata": {},
   "source": [
    "### <font color='red'>transfer categorical type of cols to numerical type - test</font> "
   ]
  },
  {
   "cell_type": "code",
   "execution_count": 17,
   "metadata": {},
   "outputs": [
    {
     "name": "stdout",
     "output_type": "stream",
     "text": [
      "LGBM 10-fold cv RMSE: 0.131\n"
     ]
    }
   ],
   "source": [
    "X, y = load_X_y()\n",
    "X = cat_to_num(X)\n",
    "run_base_model(X, y, make_plot=False)"
   ]
  },
  {
   "cell_type": "markdown",
   "metadata": {},
   "source": [
    "### <font color='blue'>create a ftr to sum up all the Areas</font> "
   ]
  },
  {
   "cell_type": "code",
   "execution_count": null,
   "metadata": {},
   "outputs": [],
   "source": []
  },
  {
   "cell_type": "code",
   "execution_count": null,
   "metadata": {},
   "outputs": [],
   "source": []
  },
  {
   "cell_type": "code",
   "execution_count": null,
   "metadata": {},
   "outputs": [],
   "source": []
  },
  {
   "cell_type": "code",
   "execution_count": null,
   "metadata": {},
   "outputs": [],
   "source": []
  },
  {
   "cell_type": "code",
   "execution_count": null,
   "metadata": {},
   "outputs": [],
   "source": []
  },
  {
   "cell_type": "code",
   "execution_count": null,
   "metadata": {},
   "outputs": [],
   "source": []
  }
 ],
 "metadata": {
  "kernelspec": {
   "display_name": "Python 3",
   "language": "python",
   "name": "python3"
  },
  "language_info": {
   "codemirror_mode": {
    "name": "ipython",
    "version": 3
   },
   "file_extension": ".py",
   "mimetype": "text/x-python",
   "name": "python",
   "nbconvert_exporter": "python",
   "pygments_lexer": "ipython3",
   "version": "3.7.5"
  }
 },
 "nbformat": 4,
 "nbformat_minor": 4
}
