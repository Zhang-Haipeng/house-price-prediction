{
 "cells": [
  {
   "cell_type": "code",
   "execution_count": 12,
   "metadata": {},
   "outputs": [
    {
     "data": {
      "text/plain": [
       "RendererRegistry.enable('mimetype')"
      ]
     },
     "execution_count": 12,
     "metadata": {},
     "output_type": "execute_result"
    }
   ],
   "source": [
    "# import basics\n",
    "import pandas as pd\n",
    "import numpy as np\n",
    "\n",
    "# import tools\n",
    "from sklearn.model_selection import train_test_split, cross_val_score\n",
    "from sklearn.preprocessing import OneHotEncoder\n",
    "from sklearn.preprocessing import StandardScaler\n",
    "from sklearn.compose import ColumnTransformer\n",
    "from sklearn.impute import SimpleImputer\n",
    "from sklearn.pipeline import Pipeline\n",
    "\n",
    "# import models\n",
    "from sklearn.dummy import DummyRegressor\n",
    "from sklearn.linear_model import LinearRegression\n",
    "from sklearn.tree import DecisionTreeRegressor\n",
    "from sklearn.ensemble import RandomForestRegressor\n",
    "from sklearn.svm import SVR\n",
    "from lightgbm import LGBMRegressor\n",
    "\n",
    "# import viz\n",
    "import altair as alt\n",
    "alt.renderers.enable('mimetype')"
   ]
  },
  {
   "cell_type": "code",
   "execution_count": 2,
   "metadata": {},
   "outputs": [],
   "source": [
    "df = pd.read_csv(\"../../data/train.csv\")\n",
    "y = np.log(df['SalePrice']) # using the logarithm as the target\n",
    "X = df.drop(columns=['SalePrice', 'Id']).copy() # dropped ID col too\n",
    "X_train, X_test, y_train, y_test = train_test_split(X,\n",
    "                                                    y,\n",
    "                                                    test_size=0.3,\n",
    "                                                    random_state=9527)"
   ]
  },
  {
   "cell_type": "code",
   "execution_count": 3,
   "metadata": {},
   "outputs": [],
   "source": [
    "# create the list of cols to drop based on missing rate\n",
    "missing_rates = (X_train.isnull().sum()/X_train.shape[0]).sort_values(ascending=False)[:20]\n",
    "cols_drop = list(missing_rates[:5].index)\n",
    "\n",
    "# create list of categorical and numerical columns\n",
    "cat_cols = [x for x in X_train.columns[[(x=='object') for x in X_train.dtypes]] if x not in cols_drop]\n",
    "num_cols = [x for x in X_train.columns if (x not in cat_cols) and (x not in cols_drop)]\n",
    "\n",
    "assert len(cat_cols) + len(num_cols) + len(cols_drop) == X_train.shape[1]"
   ]
  },
  {
   "cell_type": "code",
   "execution_count": 4,
   "metadata": {},
   "outputs": [],
   "source": [
    "# define pipeline steps\n",
    "numeric_transformer = Pipeline(steps=[\n",
    "    ('imputer', SimpleImputer(np.nan, 'mean')),\n",
    "    ('scaler', StandardScaler())\n",
    "])\n",
    "\n",
    "categoric_transformer = Pipeline(steps=[\n",
    "    ('imputer', SimpleImputer(missing_values=np.nan,\n",
    "                              strategy='most_frequent')),\n",
    "    (\"ohe\", OneHotEncoder(handle_unknown='ignore'))\n",
    "])\n",
    "\n",
    "preprocessor = ColumnTransformer(remainder='drop', transformers=[\n",
    "    ('num', numeric_transformer, num_cols),\n",
    "    ('cat', categoric_transformer, cat_cols)\n",
    "])\n",
    "\n",
    "# define base models with default hyp-params\n",
    "models = {\"Dummy\": DummyRegressor(), \n",
    "         \"LinearReg\": LinearRegression(),\n",
    "         \"DT\": DecisionTreeRegressor(),\n",
    "         \"RF\": RandomForestRegressor(),\n",
    "         \"SVM\": SVR(),\n",
    "         \"LGBM\": LGBMRegressor()}\n",
    "\n",
    "results = {}"
   ]
  },
  {
   "cell_type": "code",
   "execution_count": 5,
   "metadata": {},
   "outputs": [
    {
     "name": "stdout",
     "output_type": "stream",
     "text": [
      "Dummy: 0.397\n",
      "LinearReg: 0.147\n",
      "DT: 0.219\n",
      "RF: 0.144\n",
      "SVM: 0.138\n",
      "LGBM: 0.133\n"
     ]
    }
   ],
   "source": [
    "# run all the models with 10-fold CV, RMSE scoring\n",
    "for model_name, model in models.items():\n",
    "    ppl = Pipeline(steps=[('preprocessor', preprocessor),\n",
    "                      ('regressor', model)]) # create pipeline object\n",
    "    ppl.fit(X_train, y_train)\n",
    "    score = cross_val_score(ppl, X_train, y_train, scoring='neg_root_mean_squared_error', cv=10).mean() * -1 # 10-fold cv RMSE score\n",
    "    \n",
    "    print(\"{}: {:.3f}\".format(model_name, score))\n",
    "    \n",
    "    results[model_name] = score # record model's performance"
   ]
  },
  {
   "cell_type": "code",
   "execution_count": 6,
   "metadata": {},
   "outputs": [
    {
     "data": {
      "text/html": [
       "<div>\n",
       "<style scoped>\n",
       "    .dataframe tbody tr th:only-of-type {\n",
       "        vertical-align: middle;\n",
       "    }\n",
       "\n",
       "    .dataframe tbody tr th {\n",
       "        vertical-align: top;\n",
       "    }\n",
       "\n",
       "    .dataframe thead th {\n",
       "        text-align: right;\n",
       "    }\n",
       "</style>\n",
       "<table border=\"1\" class=\"dataframe\">\n",
       "  <thead>\n",
       "    <tr style=\"text-align: right;\">\n",
       "      <th></th>\n",
       "      <th>10-fold_RMSE</th>\n",
       "    </tr>\n",
       "  </thead>\n",
       "  <tbody>\n",
       "    <tr>\n",
       "      <th>Dummy</th>\n",
       "      <td>0.397110</td>\n",
       "    </tr>\n",
       "    <tr>\n",
       "      <th>LinearReg</th>\n",
       "      <td>0.146650</td>\n",
       "    </tr>\n",
       "    <tr>\n",
       "      <th>DT</th>\n",
       "      <td>0.219386</td>\n",
       "    </tr>\n",
       "    <tr>\n",
       "      <th>RF</th>\n",
       "      <td>0.143915</td>\n",
       "    </tr>\n",
       "    <tr>\n",
       "      <th>SVM</th>\n",
       "      <td>0.137885</td>\n",
       "    </tr>\n",
       "    <tr>\n",
       "      <th>LGBM</th>\n",
       "      <td>0.132773</td>\n",
       "    </tr>\n",
       "  </tbody>\n",
       "</table>\n",
       "</div>"
      ],
      "text/plain": [
       "           10-fold_RMSE\n",
       "Dummy          0.397110\n",
       "LinearReg      0.146650\n",
       "DT             0.219386\n",
       "RF             0.143915\n",
       "SVM            0.137885\n",
       "LGBM           0.132773"
      ]
     },
     "execution_count": 6,
     "metadata": {},
     "output_type": "execute_result"
    }
   ],
   "source": [
    "# print out results in df\n",
    "results_df = pd.DataFrame(index=results.keys())\n",
    "results_df['10-fold_RMSE'] = results.values()\n",
    "results_df"
   ]
  },
  {
   "cell_type": "code",
   "execution_count": 7,
   "metadata": {},
   "outputs": [],
   "source": [
    "# visualize LGBM's predictions agains y_true on test set\n",
    "df_viz = pd.DataFrame({\"id\":range(len(X_test)), \n",
    "                       \"pred\":np.exp(ppl.predict(X_test)),\n",
    "                      \"true\": np.exp(y_test)})\n",
    "\n",
    "df_viz['pred-true'] = df_viz['pred'] - df_viz['true']\n",
    "\n",
    "# melt for viz\n",
    "df_viz_melt = df_viz.melt(id_vars='id', \n",
    "           var_name='type',\n",
    "            value_vars=['pred', 'true'],\n",
    "            value_name='sale_price'\n",
    "           )"
   ]
  },
  {
   "cell_type": "code",
   "execution_count": 8,
   "metadata": {},
   "outputs": [
    {
     "data": {
      "text/html": [
       "<div>\n",
       "<style scoped>\n",
       "    .dataframe tbody tr th:only-of-type {\n",
       "        vertical-align: middle;\n",
       "    }\n",
       "\n",
       "    .dataframe tbody tr th {\n",
       "        vertical-align: top;\n",
       "    }\n",
       "\n",
       "    .dataframe thead th {\n",
       "        text-align: right;\n",
       "    }\n",
       "</style>\n",
       "<table border=\"1\" class=\"dataframe\">\n",
       "  <thead>\n",
       "    <tr style=\"text-align: right;\">\n",
       "      <th></th>\n",
       "      <th>id</th>\n",
       "      <th>pred</th>\n",
       "      <th>true</th>\n",
       "      <th>pred-true</th>\n",
       "    </tr>\n",
       "  </thead>\n",
       "  <tbody>\n",
       "    <tr>\n",
       "      <th>873</th>\n",
       "      <td>0</td>\n",
       "      <td>134196.343937</td>\n",
       "      <td>133000.0</td>\n",
       "      <td>1196.343937</td>\n",
       "    </tr>\n",
       "    <tr>\n",
       "      <th>714</th>\n",
       "      <td>1</td>\n",
       "      <td>199791.059281</td>\n",
       "      <td>130500.0</td>\n",
       "      <td>69291.059281</td>\n",
       "    </tr>\n",
       "    <tr>\n",
       "      <th>280</th>\n",
       "      <td>2</td>\n",
       "      <td>226059.342621</td>\n",
       "      <td>228500.0</td>\n",
       "      <td>-2440.657379</td>\n",
       "    </tr>\n",
       "    <tr>\n",
       "      <th>934</th>\n",
       "      <td>3</td>\n",
       "      <td>219302.349422</td>\n",
       "      <td>242000.0</td>\n",
       "      <td>-22697.650578</td>\n",
       "    </tr>\n",
       "    <tr>\n",
       "      <th>310</th>\n",
       "      <td>4</td>\n",
       "      <td>180542.549550</td>\n",
       "      <td>165600.0</td>\n",
       "      <td>14942.549550</td>\n",
       "    </tr>\n",
       "    <tr>\n",
       "      <th>...</th>\n",
       "      <td>...</td>\n",
       "      <td>...</td>\n",
       "      <td>...</td>\n",
       "      <td>...</td>\n",
       "    </tr>\n",
       "    <tr>\n",
       "      <th>20</th>\n",
       "      <td>433</td>\n",
       "      <td>332737.401013</td>\n",
       "      <td>325300.0</td>\n",
       "      <td>7437.401013</td>\n",
       "    </tr>\n",
       "    <tr>\n",
       "      <th>468</th>\n",
       "      <td>434</td>\n",
       "      <td>236524.874649</td>\n",
       "      <td>250000.0</td>\n",
       "      <td>-13475.125351</td>\n",
       "    </tr>\n",
       "    <tr>\n",
       "      <th>124</th>\n",
       "      <td>435</td>\n",
       "      <td>162516.385082</td>\n",
       "      <td>181000.0</td>\n",
       "      <td>-18483.614918</td>\n",
       "    </tr>\n",
       "    <tr>\n",
       "      <th>487</th>\n",
       "      <td>436</td>\n",
       "      <td>185790.038638</td>\n",
       "      <td>175000.0</td>\n",
       "      <td>10790.038638</td>\n",
       "    </tr>\n",
       "    <tr>\n",
       "      <th>905</th>\n",
       "      <td>437</td>\n",
       "      <td>127875.851260</td>\n",
       "      <td>128000.0</td>\n",
       "      <td>-124.148740</td>\n",
       "    </tr>\n",
       "  </tbody>\n",
       "</table>\n",
       "<p>438 rows × 4 columns</p>\n",
       "</div>"
      ],
      "text/plain": [
       "      id           pred      true     pred-true\n",
       "873    0  134196.343937  133000.0   1196.343937\n",
       "714    1  199791.059281  130500.0  69291.059281\n",
       "280    2  226059.342621  228500.0  -2440.657379\n",
       "934    3  219302.349422  242000.0 -22697.650578\n",
       "310    4  180542.549550  165600.0  14942.549550\n",
       "..   ...            ...       ...           ...\n",
       "20   433  332737.401013  325300.0   7437.401013\n",
       "468  434  236524.874649  250000.0 -13475.125351\n",
       "124  435  162516.385082  181000.0 -18483.614918\n",
       "487  436  185790.038638  175000.0  10790.038638\n",
       "905  437  127875.851260  128000.0   -124.148740\n",
       "\n",
       "[438 rows x 4 columns]"
      ]
     },
     "execution_count": 8,
     "metadata": {},
     "output_type": "execute_result"
    }
   ],
   "source": [
    "df_viz"
   ]
  },
  {
   "cell_type": "code",
   "execution_count": 24,
   "metadata": {},
   "outputs": [
    {
     "data": {
      "application/vnd.vegalite.v4+json": {
       "$schema": "https://vega.github.io/schema/vega-lite/v4.0.2.json",
       "config": {
        "view": {
         "continuousHeight": 300,
         "continuousWidth": 400
        }
       },
       "datasets": {
        "data-8f080c773c0fe0e5fc44c5a62b4ec227": [
         {
          "id": 0,
          "pred": 134196.34393664426,
          "pred-true": 1196.3439366442908,
          "true": 132999.99999999997
         },
         {
          "id": 1,
          "pred": 199791.05928116685,
          "pred-true": 69291.05928116673,
          "true": 130500.00000000012
         },
         {
          "id": 2,
          "pred": 226059.34262090773,
          "pred-true": -2440.6573790922994,
          "true": 228500.00000000003
         },
         {
          "id": 3,
          "pred": 219302.3494218502,
          "pred-true": -22697.650578149827,
          "true": 242000.00000000003
         },
         {
          "id": 4,
          "pred": 180542.54954954644,
          "pred-true": 14942.54954954653,
          "true": 165599.9999999999
         },
         {
          "id": 5,
          "pred": 513536.4027118919,
          "pred-true": -231463.59728810808,
          "true": 745000
         },
         {
          "id": 6,
          "pred": 269000.91805054573,
          "pred-true": -10999.081949454092,
          "true": 279999.9999999998
         },
         {
          "id": 7,
          "pred": 127482.4398145859,
          "pred-true": 9482.439814585989,
          "true": 117999.99999999991
         },
         {
          "id": 8,
          "pred": 163549.53005534055,
          "pred-true": 1549.5300553406705,
          "true": 161999.99999999988
         },
         {
          "id": 9,
          "pred": 197553.41851805418,
          "pred-true": 13453.418518054212,
          "true": 184099.99999999997
         },
         {
          "id": 10,
          "pred": 186072.861087695,
          "pred-true": 12072.861087695026,
          "true": 173999.99999999997
         },
         {
          "id": 11,
          "pred": 303717.91267475026,
          "pred-true": 156717.91267475035,
          "true": 146999.9999999999
         },
         {
          "id": 12,
          "pred": 203151.94293381553,
          "pred-true": 3151.942933815473,
          "true": 200000.00000000006
         },
         {
          "id": 13,
          "pred": 202853.53153438613,
          "pred-true": 10853.531534386188,
          "true": 191999.99999999994
         },
         {
          "id": 14,
          "pred": 359187.3706626275,
          "pred-true": -812.6293373724329,
          "true": 359999.99999999994
         },
         {
          "id": 15,
          "pred": 171017.03305101796,
          "pred-true": -12982.966948982037,
          "true": 184000
         },
         {
          "id": 16,
          "pred": 203793.99558784426,
          "pred-true": 11793.995587844314,
          "true": 191999.99999999994
         },
         {
          "id": 17,
          "pred": 262835.1825053474,
          "pred-true": -77164.81749465264,
          "true": 340000.00000000006
         },
         {
          "id": 18,
          "pred": 145145.7397056239,
          "pred-true": 6145.7397056239715,
          "true": 138999.99999999994
         },
         {
          "id": 19,
          "pred": 112087.16580307041,
          "pred-true": 22616.165803070413,
          "true": 89471
         },
         {
          "id": 20,
          "pred": 81342.90955262128,
          "pred-true": 29342.909552621306,
          "true": 51999.99999999997
         },
         {
          "id": 21,
          "pred": 187319.7617971224,
          "pred-true": -33680.23820287766,
          "true": 221000.00000000006
         },
         {
          "id": 22,
          "pred": 274719.57280621305,
          "pred-true": 12219.572806213167,
          "true": 262499.9999999999
         },
         {
          "id": 23,
          "pred": 232897.33109505085,
          "pred-true": -30537.66890494892,
          "true": 263434.99999999977
         },
         {
          "id": 24,
          "pred": 99787.58276207608,
          "pred-true": 2787.582762076112,
          "true": 96999.99999999997
         },
         {
          "id": 25,
          "pred": 169555.34840246852,
          "pred-true": -27944.651597531454,
          "true": 197499.99999999997
         },
         {
          "id": 26,
          "pred": 168813.73207470978,
          "pred-true": 19313.7320747099,
          "true": 149499.99999999988
         },
         {
          "id": 27,
          "pred": 169325.33016135843,
          "pred-true": -30674.669838641625,
          "true": 200000.00000000006
         },
         {
          "id": 28,
          "pred": 171687.8279116036,
          "pred-true": -28812.172088396357,
          "true": 200499.99999999997
         },
         {
          "id": 29,
          "pred": 139571.05385077983,
          "pred-true": 3571.05385077995,
          "true": 135999.99999999988
         },
         {
          "id": 30,
          "pred": 369832.66169461,
          "pred-true": -15167.338305389683,
          "true": 384999.9999999997
         },
         {
          "id": 31,
          "pred": 190557.3779894834,
          "pred-true": -60022.62201051644,
          "true": 250579.99999999983
         },
         {
          "id": 32,
          "pred": 108089.92072519203,
          "pred-true": 28589.92072519206,
          "true": 79499.99999999997
         },
         {
          "id": 33,
          "pred": 183655.33465971463,
          "pred-true": 61655.33465971453,
          "true": 122000.0000000001
         },
         {
          "id": 34,
          "pred": 233797.62957899555,
          "pred-true": -41202.37042100451,
          "true": 275000.00000000006
         },
         {
          "id": 35,
          "pred": 242768.7030653285,
          "pred-true": -41231.29693467173,
          "true": 284000.00000000023
         },
         {
          "id": 36,
          "pred": 207236.97361347853,
          "pred-true": 236.97361347844708,
          "true": 207000.0000000001
         },
         {
          "id": 37,
          "pred": 247856.31429708927,
          "pred-true": 13856.314297089266,
          "true": 234000
         },
         {
          "id": 38,
          "pred": 171377.40745538127,
          "pred-true": 2377.4074553811515,
          "true": 169000.00000000012
         },
         {
          "id": 39,
          "pred": 103261.03724651839,
          "pred-true": -6238.962753481683,
          "true": 109500.00000000007
         },
         {
          "id": 40,
          "pred": 122298.31162800141,
          "pred-true": -201.68837199849077,
          "true": 122499.9999999999
         },
         {
          "id": 41,
          "pred": 148206.31357317176,
          "pred-true": -2293.6864268281497,
          "true": 150499.9999999999
         },
         {
          "id": 42,
          "pred": 131848.29375523143,
          "pred-true": -15151.706244768488,
          "true": 146999.9999999999
         },
         {
          "id": 43,
          "pred": 142898.56529205316,
          "pred-true": 11398.56529205307,
          "true": 131500.0000000001
         },
         {
          "id": 44,
          "pred": 114562.72061463897,
          "pred-true": 6562.720614638965,
          "true": 108000
         },
         {
          "id": 45,
          "pred": 187914.15221670447,
          "pred-true": 4414.1522167046205,
          "true": 183499.99999999985
         },
         {
          "id": 46,
          "pred": 269415.0520363262,
          "pred-true": -5584.947963673854,
          "true": 275000.00000000006
         },
         {
          "id": 47,
          "pred": 200670.87902746044,
          "pred-true": -10329.120972539735,
          "true": 211000.00000000017
         },
         {
          "id": 48,
          "pred": 210178.0298293552,
          "pred-true": 16678.02982935522,
          "true": 193499.99999999997
         },
         {
          "id": 49,
          "pred": 149324.46528660145,
          "pred-true": 11874.465286601568,
          "true": 137449.99999999988
         },
         {
          "id": 50,
          "pred": 221215.8916439838,
          "pred-true": 11215.89164398372,
          "true": 210000.0000000001
         },
         {
          "id": 51,
          "pred": 180881.20608009904,
          "pred-true": -39118.79391990081,
          "true": 219999.99999999985
         },
         {
          "id": 52,
          "pred": 222412.24218701967,
          "pred-true": -37987.757812980155,
          "true": 260399.99999999983
         },
         {
          "id": 53,
          "pred": 168886.00587996698,
          "pred-true": 3886.0058799669205,
          "true": 165000.00000000006
         },
         {
          "id": 54,
          "pred": 235952.33955255398,
          "pred-true": 16452.33955255401,
          "true": 219499.99999999997
         },
         {
          "id": 55,
          "pred": 324738.99095253076,
          "pred-true": -261.0090474691242,
          "true": 324999.9999999999
         },
         {
          "id": 56,
          "pred": 99002.20808988436,
          "pred-true": -997.7919101156585,
          "true": 100000.00000000001
         },
         {
          "id": 57,
          "pred": 151498.89034548294,
          "pred-true": 14593.89034548297,
          "true": 136904.99999999997
         },
         {
          "id": 58,
          "pred": 177925.8165001633,
          "pred-true": -15074.183499836683,
          "true": 192999.99999999997
         },
         {
          "id": 59,
          "pred": 312673.92859073746,
          "pred-true": -7326.0714092623675,
          "true": 319999.9999999998
         },
         {
          "id": 60,
          "pred": 186662.51353839898,
          "pred-true": -1837.4864616009872,
          "true": 188499.99999999997
         },
         {
          "id": 61,
          "pred": 104538.63399650354,
          "pred-true": 24638.633996503515,
          "true": 79900.00000000003
         },
         {
          "id": 62,
          "pred": 190460.63545402186,
          "pred-true": -10539.364545978082,
          "true": 200999.99999999994
         },
         {
          "id": 63,
          "pred": 211478.20963252254,
          "pred-true": 6478.209632522543,
          "true": 205000
         },
         {
          "id": 64,
          "pred": 131930.90998596675,
          "pred-true": -4069.090014033136,
          "true": 135999.99999999988
         },
         {
          "id": 65,
          "pred": 272715.9928901065,
          "pred-true": -22284.007109893544,
          "true": 295000.00000000006
         },
         {
          "id": 66,
          "pred": 116303.99313319488,
          "pred-true": -8196.006866805052,
          "true": 124499.99999999993
         },
         {
          "id": 67,
          "pred": 109100.36814693405,
          "pred-true": -56899.63185306598,
          "true": 166000.00000000003
         },
         {
          "id": 68,
          "pred": 164769.4183084783,
          "pred-true": -25180.581691521802,
          "true": 189950.00000000012
         },
         {
          "id": 69,
          "pred": 134778.3769538794,
          "pred-true": -13221.623046120512,
          "true": 147999.9999999999
         },
         {
          "id": 70,
          "pred": 122052.29841124013,
          "pred-true": 16052.298411240088,
          "true": 106000.00000000004
         },
         {
          "id": 71,
          "pred": 256028.62224823018,
          "pred-true": -18696.37775176976,
          "true": 274724.99999999994
         },
         {
          "id": 72,
          "pred": 157458.5410690476,
          "pred-true": -2541.4589309523,
          "true": 159999.9999999999
         },
         {
          "id": 73,
          "pred": 75349.14142087358,
          "pred-true": -2650.858579126463,
          "true": 78000.00000000004
         },
         {
          "id": 74,
          "pred": 144622.48293273145,
          "pred-true": 7622.482932731335,
          "true": 137000.00000000012
         },
         {
          "id": 75,
          "pred": 162627.61820335872,
          "pred-true": -12872.381796641159,
          "true": 175499.99999999988
         },
         {
          "id": 76,
          "pred": 80126.86137266594,
          "pred-true": 7126.861372665968,
          "true": 72999.99999999997
         },
         {
          "id": 77,
          "pred": 113328.102979274,
          "pred-true": -11671.897020725912,
          "true": 124999.99999999991
         },
         {
          "id": 78,
          "pred": 254722.18341702368,
          "pred-true": 3722.183417023858,
          "true": 250999.99999999983
         },
         {
          "id": 79,
          "pred": 92314.80235741884,
          "pred-true": -5685.197642581174,
          "true": 98000.00000000001
         },
         {
          "id": 80,
          "pred": 148629.19286711208,
          "pred-true": -6370.807132887916,
          "true": 155000
         },
         {
          "id": 81,
          "pred": 162983.46548421806,
          "pred-true": -7016.534515781939,
          "true": 170000
         },
         {
          "id": 82,
          "pred": 163056.860368435,
          "pred-true": -16943.13963156496,
          "true": 179999.99999999997
         },
         {
          "id": 83,
          "pred": 159621.583289316,
          "pred-true": -65378.416710684134,
          "true": 225000.00000000015
         },
         {
          "id": 84,
          "pred": 370968.3943450631,
          "pred-true": -6457.605654937215,
          "true": 377426.0000000003
         },
         {
          "id": 85,
          "pred": 336793.0331091637,
          "pred-true": 11169.03310916369,
          "true": 325624
         },
         {
          "id": 86,
          "pred": 235271.3129547992,
          "pred-true": 38271.3129547991,
          "true": 197000.00000000012
         },
         {
          "id": 87,
          "pred": 140879.85490171978,
          "pred-true": -6120.1450982801325,
          "true": 146999.9999999999
         },
         {
          "id": 88,
          "pred": 159337.6709071059,
          "pred-true": -5662.329092894157,
          "true": 165000.00000000006
         },
         {
          "id": 89,
          "pred": 196201.05038744703,
          "pred-true": 16301.05038744703,
          "true": 179900
         },
         {
          "id": 90,
          "pred": 167368.01802433553,
          "pred-true": -4131.981975664501,
          "true": 171500.00000000003
         },
         {
          "id": 91,
          "pred": 255282.6979902306,
          "pred-true": -4717.302009769541,
          "true": 260000.00000000015
         },
         {
          "id": 92,
          "pred": 89909.952962653,
          "pred-true": -10090.047037347016,
          "true": 100000.00000000001
         },
         {
          "id": 93,
          "pred": 122821.05366474182,
          "pred-true": -18178.94633525818,
          "true": 141000
         },
         {
          "id": 94,
          "pred": 120552.61029304034,
          "pred-true": -16447.389706959773,
          "true": 137000.00000000012
         },
         {
          "id": 95,
          "pred": 132652.89456617934,
          "pred-true": -1247.1054338206595,
          "true": 133900
         },
         {
          "id": 96,
          "pred": 119020.12944923466,
          "pred-true": 24020.129449234606,
          "true": 95000.00000000006
         },
         {
          "id": 97,
          "pred": 133395.94253266518,
          "pred-true": 8395.94253266527,
          "true": 124999.99999999991
         },
         {
          "id": 98,
          "pred": 125371.55866001612,
          "pred-true": -24628.441339983823,
          "true": 149999.99999999994
         },
         {
          "id": 99,
          "pred": 180097.6408728673,
          "pred-true": 2097.6408728673705,
          "true": 177999.99999999994
         },
         {
          "id": 100,
          "pred": 114766.0407959928,
          "pred-true": 14766.040795992783,
          "true": 100000.00000000001
         },
         {
          "id": 101,
          "pred": 355589.6853566522,
          "pred-true": 40589.68535665225,
          "true": 314999.99999999994
         },
         {
          "id": 102,
          "pred": 84394.54202599348,
          "pred-true": 4394.5420259935345,
          "true": 79999.99999999994
         },
         {
          "id": 103,
          "pred": 100123.34211911287,
          "pred-true": 7123.342119112858,
          "true": 93000.00000000001
         },
         {
          "id": 104,
          "pred": 99589.84445615068,
          "pred-true": 10589.84445615072,
          "true": 88999.99999999996
         },
         {
          "id": 105,
          "pred": 211095.73658205388,
          "pred-true": -18904.26341794632,
          "true": 230000.0000000002
         },
         {
          "id": 106,
          "pred": 193707.21583176558,
          "pred-true": 9707.215831765585,
          "true": 184000
         },
         {
          "id": 107,
          "pred": 201784.12613491053,
          "pred-true": 7284.126134910504,
          "true": 194500.00000000003
         },
         {
          "id": 108,
          "pred": 146674.85497100613,
          "pred-true": 8674.85497100625,
          "true": 137999.99999999988
         },
         {
          "id": 109,
          "pred": 174693.3657495516,
          "pred-true": -3306.6342504483473,
          "true": 177999.99999999994
         },
         {
          "id": 110,
          "pred": 174978.98479536638,
          "pred-true": -5021.015204633586,
          "true": 179999.99999999997
         },
         {
          "id": 111,
          "pred": 234799.70930027636,
          "pred-true": 21899.709300276503,
          "true": 212899.99999999985
         },
         {
          "id": 112,
          "pred": 329212.0934353811,
          "pred-true": 36135.09343538084,
          "true": 293077.00000000023
         },
         {
          "id": 113,
          "pred": 124339.4361657176,
          "pred-true": -4560.563834282293,
          "true": 128899.9999999999
         },
         {
          "id": 114,
          "pred": 158897.3787932788,
          "pred-true": -16102.621206721233,
          "true": 175000.00000000003
         },
         {
          "id": 115,
          "pred": 127961.29266422788,
          "pred-true": -4038.7073357720656,
          "true": 131999.99999999994
         },
         {
          "id": 116,
          "pred": 141940.8581850259,
          "pred-true": -2059.141814974224,
          "true": 144000.00000000012
         },
         {
          "id": 117,
          "pred": 91483.12145315955,
          "pred-true": 9483.121453159474,
          "true": 82000.00000000007
         },
         {
          "id": 118,
          "pred": 155395.77328986186,
          "pred-true": 3395.773289861885,
          "true": 151999.99999999997
         },
         {
          "id": 119,
          "pred": 170385.56570955887,
          "pred-true": 385.56570955886855,
          "true": 170000
         },
         {
          "id": 120,
          "pred": 159651.15889780145,
          "pred-true": 20651.158897801506,
          "true": 138999.99999999994
         },
         {
          "id": 121,
          "pred": 184670.2524993302,
          "pred-true": 7670.252499330149,
          "true": 177000.00000000006
         },
         {
          "id": 122,
          "pred": 142508.87103486317,
          "pred-true": 3708.871034863201,
          "true": 138799.99999999997
         },
         {
          "id": 123,
          "pred": 113494.76412742116,
          "pred-true": 8494.76412742112,
          "true": 105000.00000000004
         },
         {
          "id": 124,
          "pred": 143886.6426786998,
          "pred-true": -31113.357321300224,
          "true": 175000.00000000003
         },
         {
          "id": 125,
          "pred": 258714.27785071978,
          "pred-true": -19285.722149280104,
          "true": 277999.9999999999
         },
         {
          "id": 126,
          "pred": 132118.80539780937,
          "pred-true": 4118.805397809323,
          "true": 128000.00000000004
         },
         {
          "id": 127,
          "pred": 147093.46294128834,
          "pred-true": 1093.462941288395,
          "true": 145999.99999999994
         },
         {
          "id": 128,
          "pred": 212277.32157625046,
          "pred-true": 22277.32157625034,
          "true": 190000.00000000012
         },
         {
          "id": 129,
          "pred": 113167.35903457252,
          "pred-true": -12332.640965427388,
          "true": 125499.99999999991
         },
         {
          "id": 130,
          "pred": 215334.24474112238,
          "pred-true": -8165.755258877616,
          "true": 223500
         },
         {
          "id": 131,
          "pred": 110715.57851741124,
          "pred-true": -1784.4214825888193,
          "true": 112500.00000000006
         },
         {
          "id": 132,
          "pred": 126318.54378728126,
          "pred-true": -4181.456212718855,
          "true": 130500.00000000012
         },
         {
          "id": 133,
          "pred": 323407.71469252364,
          "pred-true": 33407.71469252376,
          "true": 289999.9999999999
         },
         {
          "id": 134,
          "pred": 263335.7918249888,
          "pred-true": -11664.20817501127,
          "true": 275000.00000000006
         },
         {
          "id": 135,
          "pred": 385363.634852532,
          "pred-true": 70363.63485253206,
          "true": 314999.99999999994
         },
         {
          "id": 136,
          "pred": 135543.73876233783,
          "pred-true": 8543.738762337875,
          "true": 126999.99999999996
         },
         {
          "id": 137,
          "pred": 112976.22532810108,
          "pred-true": -6523.774671898922,
          "true": 119500
         },
         {
          "id": 138,
          "pred": 195514.31602992446,
          "pred-true": 14514.316029924608,
          "true": 180999.99999999985
         },
         {
          "id": 139,
          "pred": 165236.5602982023,
          "pred-true": 2236.560298202181,
          "true": 163000.00000000012
         },
         {
          "id": 140,
          "pred": 158904.03206206913,
          "pred-true": -8095.96793793072,
          "true": 166999.99999999985
         },
         {
          "id": 141,
          "pred": 287365.118548482,
          "pred-true": 3365.1185484817834,
          "true": 284000.00000000023
         },
         {
          "id": 142,
          "pred": 99402.33368799576,
          "pred-true": -15597.666312004323,
          "true": 115000.00000000009
         },
         {
          "id": 143,
          "pred": 137306.32798442038,
          "pred-true": -693.6720155795047,
          "true": 137999.99999999988
         },
         {
          "id": 144,
          "pred": 166522.3225375023,
          "pred-true": 522.3225375022739,
          "true": 166000.00000000003
         },
         {
          "id": 145,
          "pred": 125768.07771013255,
          "pred-true": -4131.922289867405,
          "true": 129899.99999999996
         },
         {
          "id": 146,
          "pred": 94098.13213325354,
          "pred-true": -8901.867866746441,
          "true": 102999.99999999999
         },
         {
          "id": 147,
          "pred": 148207.9912986605,
          "pred-true": -4792.008701339451,
          "true": 152999.99999999994
         },
         {
          "id": 148,
          "pred": 192824.77762652328,
          "pred-true": 7824.777626523224,
          "true": 185000.00000000006
         },
         {
          "id": 149,
          "pred": 283508.7550080781,
          "pred-true": -56241.244991921645,
          "true": 339749.99999999977
         },
         {
          "id": 150,
          "pred": 167215.07018581606,
          "pred-true": -784.9298141838808,
          "true": 167999.99999999994
         },
         {
          "id": 151,
          "pred": 282675.4540006421,
          "pred-true": -6324.545999357884,
          "true": 289000
         },
         {
          "id": 152,
          "pred": 128016.80206503742,
          "pred-true": -35483.19793496269,
          "true": 163500.00000000012
         },
         {
          "id": 153,
          "pred": 125620.64832099841,
          "pred-true": -4279.351679001542,
          "true": 129899.99999999996
         },
         {
          "id": 154,
          "pred": 228792.5520894713,
          "pred-true": -3207.4479105288337,
          "true": 232000.00000000015
         },
         {
          "id": 155,
          "pred": 136209.98678925855,
          "pred-true": -8790.013210741396,
          "true": 144999.99999999994
         },
         {
          "id": 156,
          "pred": 327991.04565696616,
          "pred-true": 30991.045656966162,
          "true": 297000
         },
         {
          "id": 157,
          "pred": 108497.76335880379,
          "pred-true": -1402.236641196243,
          "true": 109900.00000000003
         },
         {
          "id": 158,
          "pred": 357856.79489384673,
          "pred-true": 20856.794893846847,
          "true": 336999.9999999999
         },
         {
          "id": 159,
          "pred": 172618.50406039626,
          "pred-true": 10618.504060396372,
          "true": 161999.99999999988
         },
         {
          "id": 160,
          "pred": 131046.3350694519,
          "pred-true": -3453.664930548155,
          "true": 134500.00000000006
         },
         {
          "id": 161,
          "pred": 148699.06734369672,
          "pred-true": 24199.06734369679,
          "true": 124499.99999999993
         },
         {
          "id": 162,
          "pred": 194337.97301684658,
          "pred-true": 9437.973016846663,
          "true": 184899.9999999999
         },
         {
          "id": 163,
          "pred": 170481.53269491045,
          "pred-true": -2518.4673050894053,
          "true": 172999.99999999985
         },
         {
          "id": 164,
          "pred": 163846.89398658916,
          "pred-true": -12153.10601341087,
          "true": 176000.00000000003
         },
         {
          "id": 165,
          "pred": 77873.87611639804,
          "pred-true": -6626.123883602006,
          "true": 84500.00000000004
         },
         {
          "id": 166,
          "pred": 164217.14748219363,
          "pred-true": -15682.852517806372,
          "true": 179900
         },
         {
          "id": 167,
          "pred": 167092.12291064573,
          "pred-true": -8907.877089354297,
          "true": 176000.00000000003
         },
         {
          "id": 168,
          "pred": 132919.97329316233,
          "pred-true": -3580.026706837758,
          "true": 136500.0000000001
         },
         {
          "id": 169,
          "pred": 128013.06465125745,
          "pred-true": -3986.935348742496,
          "true": 131999.99999999994
         },
         {
          "id": 170,
          "pred": 417327.04254816857,
          "pred-true": -165605.95745183143,
          "true": 582933
         },
         {
          "id": 171,
          "pred": 326090.0357028527,
          "pred-true": 9090.035702852882,
          "true": 316999.9999999998
         },
         {
          "id": 172,
          "pred": 126171.06082869963,
          "pred-true": -828.9391713003279,
          "true": 126999.99999999996
         },
         {
          "id": 173,
          "pred": 114125.42486355834,
          "pred-true": -17374.575136441752,
          "true": 131500.0000000001
         },
         {
          "id": 174,
          "pred": 142894.19855100676,
          "pred-true": 2894.198551006848,
          "true": 139999.9999999999
         },
         {
          "id": 175,
          "pred": 153643.17408489282,
          "pred-true": 13643.174084892904,
          "true": 139999.9999999999
         },
         {
          "id": 176,
          "pred": 148467.18309799075,
          "pred-true": 1467.183097990841,
          "true": 146999.9999999999
         },
         {
          "id": 177,
          "pred": 133648.5951675295,
          "pred-true": 23648.595167529595,
          "true": 109999.99999999991
         },
         {
          "id": 178,
          "pred": 124683.87192467356,
          "pred-true": 1083.8719246735418,
          "true": 123600.00000000001
         },
         {
          "id": 179,
          "pred": 310548.15163716936,
          "pred-true": 29335.151637169532,
          "true": 281212.9999999998
         },
         {
          "id": 180,
          "pred": 252848.367135845,
          "pred-true": 20848.367135844863,
          "true": 232000.00000000015
         },
         {
          "id": 181,
          "pred": 145712.62076810683,
          "pred-true": 3212.6207681068336,
          "true": 142500
         },
         {
          "id": 182,
          "pred": 174803.1903409421,
          "pred-true": 18968.190340941976,
          "true": 155835.00000000012
         },
         {
          "id": 183,
          "pred": 133124.84820844338,
          "pred-true": 18124.84820844329,
          "true": 115000.00000000009
         },
         {
          "id": 184,
          "pred": 167956.43901827463,
          "pred-true": -13043.560981725226,
          "true": 180999.99999999985
         },
         {
          "id": 185,
          "pred": 199807.4955407246,
          "pred-true": -192.5044592754566,
          "true": 200000.00000000006
         },
         {
          "id": 186,
          "pred": 142094.4608813482,
          "pred-true": -15905.539118651912,
          "true": 158000.00000000012
         },
         {
          "id": 187,
          "pred": 213151.698211362,
          "pred-true": 37251.69821136212,
          "true": 175899.99999999988
         },
         {
          "id": 188,
          "pred": 118226.7747651955,
          "pred-true": 8226.774765195587,
          "true": 109999.99999999991
         },
         {
          "id": 189,
          "pred": 69210.47993073286,
          "pred-true": 16710.47993073285,
          "true": 52500.000000000015
         },
         {
          "id": 190,
          "pred": 305439.63946891285,
          "pred-true": -13560.360531087266,
          "true": 319000.0000000001
         },
         {
          "id": 191,
          "pred": 143545.48603933633,
          "pred-true": 16045.486039336422,
          "true": 127499.99999999991
         },
         {
          "id": 192,
          "pred": 95422.96953401204,
          "pred-true": -15077.030465987991,
          "true": 110500.00000000003
         },
         {
          "id": 193,
          "pred": 203598.06557121896,
          "pred-true": -12901.934428780922,
          "true": 216499.99999999988
         },
         {
          "id": 194,
          "pred": 173191.48237267087,
          "pred-true": -13808.517627329304,
          "true": 187000.00000000017
         },
         {
          "id": 195,
          "pred": 143823.57892833356,
          "pred-true": -1176.4210716663802,
          "true": 144999.99999999994
         },
         {
          "id": 196,
          "pred": 140657.9850546104,
          "pred-true": -29242.014945389732,
          "true": 169900.00000000015
         },
         {
          "id": 197,
          "pred": 241667.83637039197,
          "pred-true": 1667.8363703918294,
          "true": 240000.00000000015
         },
         {
          "id": 198,
          "pred": 252785.4402002547,
          "pred-true": 16785.440200254874,
          "true": 235999.99999999983
         },
         {
          "id": 199,
          "pred": 228722.95047687832,
          "pred-true": -13277.049523121706,
          "true": 242000.00000000003
         },
         {
          "id": 200,
          "pred": 152525.23397039954,
          "pred-true": 19525.233970399568,
          "true": 132999.99999999997
         },
         {
          "id": 201,
          "pred": 103962.91069140418,
          "pred-true": -6037.089308595736,
          "true": 109999.99999999991
         },
         {
          "id": 202,
          "pred": 137684.06575738156,
          "pred-true": -17315.934242618445,
          "true": 155000
         },
         {
          "id": 203,
          "pred": 126358.20250369434,
          "pred-true": 1358.202503694425,
          "true": 124999.99999999991
         },
         {
          "id": 204,
          "pred": 95516.12706059823,
          "pred-true": -10983.872939401772,
          "true": 106500
         },
         {
          "id": 205,
          "pred": 202015.48949094044,
          "pred-true": 8015.489490940468,
          "true": 193999.99999999997
         },
         {
          "id": 206,
          "pred": 192432.22196431755,
          "pred-true": 1432.2219643175777,
          "true": 190999.99999999997
         },
         {
          "id": 207,
          "pred": 102609.52701356172,
          "pred-true": 11109.527013561703,
          "true": 91500.00000000001
         },
         {
          "id": 208,
          "pred": 103228.24177148235,
          "pred-true": -6271.7582285177195,
          "true": 109500.00000000007
         },
         {
          "id": 209,
          "pred": 119670.33296103387,
          "pred-true": -12329.667038966072,
          "true": 131999.99999999994
         },
         {
          "id": 210,
          "pred": 196680.03687649753,
          "pred-true": -7319.96312350253,
          "true": 204000.00000000006
         },
         {
          "id": 211,
          "pred": 197109.68369723612,
          "pred-true": -19890.316302764055,
          "true": 217000.00000000017
         },
         {
          "id": 212,
          "pred": 112795.55736271995,
          "pred-true": -204.4426372800517,
          "true": 113000
         },
         {
          "id": 213,
          "pred": 114095.84542510292,
          "pred-true": 1095.845425102918,
          "true": 113000
         },
         {
          "id": 214,
          "pred": 115061.66279235804,
          "pred-true": 5061.662792358125,
          "true": 109999.99999999991
         },
         {
          "id": 215,
          "pred": 271036.47803102847,
          "pred-true": -57863.52196897159,
          "true": 328900.00000000006
         },
         {
          "id": 216,
          "pred": 137625.8157599203,
          "pred-true": -14374.18424007966,
          "true": 151999.99999999997
         },
         {
          "id": 217,
          "pred": 118071.96020501453,
          "pred-true": 1071.9602050145331,
          "true": 117000
         },
         {
          "id": 218,
          "pred": 79056.94456608174,
          "pred-true": 56.94456608168548,
          "true": 79000.00000000006
         },
         {
          "id": 219,
          "pred": 211314.4277883387,
          "pred-true": 21314.427788338595,
          "true": 190000.00000000012
         },
         {
          "id": 220,
          "pred": 156193.7808451629,
          "pred-true": -6806.219154837221,
          "true": 163000.00000000012
         },
         {
          "id": 221,
          "pred": 125916.32236532767,
          "pred-true": 3416.3223653277673,
          "true": 122499.9999999999
         },
         {
          "id": 222,
          "pred": 150628.81590026838,
          "pred-true": 13128.815900268382,
          "true": 137500
         },
         {
          "id": 223,
          "pred": 105744.49677579425,
          "pred-true": -4255.503224205662,
          "true": 109999.99999999991
         },
         {
          "id": 224,
          "pred": 107598.57493409415,
          "pred-true": 5598.574934094126,
          "true": 102000.00000000003
         },
         {
          "id": 225,
          "pred": 112791.85060883587,
          "pred-true": -12208.149391164043,
          "true": 124999.99999999991
         },
         {
          "id": 226,
          "pred": 126508.88257974006,
          "pred-true": -28391.117420259994,
          "true": 154900.00000000006
         },
         {
          "id": 227,
          "pred": 130175.46439540139,
          "pred-true": 7175.464395401359,
          "true": 123000.00000000003
         },
         {
          "id": 228,
          "pred": 138987.49537100125,
          "pred-true": -3012.5046289988677,
          "true": 142000.00000000012
         },
         {
          "id": 229,
          "pred": 99543.93742134591,
          "pred-true": -30456.06257865415,
          "true": 130000.00000000006
         },
         {
          "id": 230,
          "pred": 292808.35392670403,
          "pred-true": 9345.353926704207,
          "true": 283462.9999999998
         },
         {
          "id": 231,
          "pred": 162978.7536352781,
          "pred-true": 978.7536352782045,
          "true": 161999.99999999988
         },
         {
          "id": 232,
          "pred": 218503.56583534883,
          "pred-true": -4996.434164651175,
          "true": 223500
         },
         {
          "id": 233,
          "pred": 103294.09791282323,
          "pred-true": 4694.097912823199,
          "true": 98600.00000000003
         },
         {
          "id": 234,
          "pred": 155137.8005239236,
          "pred-true": -1862.1994760763191,
          "true": 156999.9999999999
         },
         {
          "id": 235,
          "pred": 249668.91090592038,
          "pred-true": -125331.0890940798,
          "true": 375000.0000000002
         },
         {
          "id": 236,
          "pred": 199367.024044399,
          "pred-true": -15632.975955601054,
          "true": 215000.00000000006
         },
         {
          "id": 237,
          "pred": 80259.47949868842,
          "pred-true": -7740.520501311592,
          "true": 88000.00000000001
         },
         {
          "id": 238,
          "pred": 144237.6905671898,
          "pred-true": -11762.309432810318,
          "true": 156000.00000000012
         },
         {
          "id": 239,
          "pred": 119569.89195047138,
          "pred-true": 5069.891950471283,
          "true": 114500.0000000001
         },
         {
          "id": 240,
          "pred": 135882.3997332311,
          "pred-true": 8382.3997332312,
          "true": 127499.99999999991
         },
         {
          "id": 241,
          "pred": 143349.1093573309,
          "pred-true": -5950.890642669023,
          "true": 149299.9999999999
         },
         {
          "id": 242,
          "pred": 202728.95413000806,
          "pred-true": -12271.045869991998,
          "true": 215000.00000000006
         },
         {
          "id": 243,
          "pred": 149146.28559798637,
          "pred-true": -3853.7144020135747,
          "true": 152999.99999999994
         },
         {
          "id": 244,
          "pred": 183830.4673327641,
          "pred-true": -1169.532667235966,
          "true": 185000.00000000006
         },
         {
          "id": 245,
          "pred": 170340.27639604485,
          "pred-true": 10445.276396044908,
          "true": 159894.99999999994
         },
         {
          "id": 246,
          "pred": 208818.64288122384,
          "pred-true": 22968.642881223757,
          "true": 185850.0000000001
         },
         {
          "id": 247,
          "pred": 370841.901241877,
          "pred-true": 117548.90124187691,
          "true": 253293.0000000001
         },
         {
          "id": 248,
          "pred": 136924.1173366385,
          "pred-true": 7424.117336638592,
          "true": 129499.99999999991
         },
         {
          "id": 249,
          "pred": 136685.26561380536,
          "pred-true": 11685.265613805444,
          "true": 124999.99999999991
         },
         {
          "id": 250,
          "pred": 165552.83360012528,
          "pred-true": -14447.166399874695,
          "true": 179999.99999999997
         },
         {
          "id": 251,
          "pred": 127788.56023153658,
          "pred-true": -3711.439768463504,
          "true": 131500.0000000001
         },
         {
          "id": 252,
          "pred": 129851.999437417,
          "pred-true": -9148.000562582936,
          "true": 138999.99999999994
         },
         {
          "id": 253,
          "pred": 257660.27279463506,
          "pred-true": -77339.72720536476,
          "true": 334999.9999999998
         },
         {
          "id": 254,
          "pred": 174550.9306954815,
          "pred-true": 17618.930695481395,
          "true": 156932.00000000012
         },
         {
          "id": 255,
          "pred": 154361.03380514338,
          "pred-true": -22638.96619485668,
          "true": 177000.00000000006
         },
         {
          "id": 256,
          "pred": 74033.4101096479,
          "pred-true": 19033.41010964795,
          "true": 54999.99999999995
         },
         {
          "id": 257,
          "pred": 209294.47657213022,
          "pred-true": 6294.476572130137,
          "true": 203000.0000000001
         },
         {
          "id": 258,
          "pred": 206413.65083353053,
          "pred-true": -9586.349166469503,
          "true": 216000.00000000003
         },
         {
          "id": 259,
          "pred": 130894.09853144934,
          "pred-true": -4105.901468550772,
          "true": 135000.00000000012
         },
         {
          "id": 260,
          "pred": 131440.08006825784,
          "pred-true": 18440.08006825784,
          "true": 113000
         },
         {
          "id": 261,
          "pred": 170403.79040585842,
          "pred-true": 3163.79040585857,
          "true": 167239.99999999985
         },
         {
          "id": 262,
          "pred": 127090.2375243053,
          "pred-true": 7090.2375243052375,
          "true": 120000.00000000006
         },
         {
          "id": 263,
          "pred": 190781.2247568618,
          "pred-true": -50718.77524313802,
          "true": 241499.99999999983
         },
         {
          "id": 264,
          "pred": 133481.97556779315,
          "pred-true": -20018.02443220676,
          "true": 153499.9999999999
         },
         {
          "id": 265,
          "pred": 143887.8528451355,
          "pred-true": -9612.147154864419,
          "true": 153499.9999999999
         },
         {
          "id": 266,
          "pred": 128208.28429707284,
          "pred-true": -10791.715702927104,
          "true": 138999.99999999994
         },
         {
          "id": 267,
          "pred": 244380.2256928235,
          "pred-true": -17119.774307176733,
          "true": 261500.00000000023
         },
         {
          "id": 268,
          "pred": 174657.9175339213,
          "pred-true": 4667.917533921456,
          "true": 169989.99999999985
         },
         {
          "id": 269,
          "pred": 131170.5496269818,
          "pred-true": 8170.549626981781,
          "true": 123000.00000000003
         },
         {
          "id": 270,
          "pred": 189055.57489248284,
          "pred-true": 3155.574892482895,
          "true": 185899.99999999994
         },
         {
          "id": 271,
          "pred": 427091.7326641899,
          "pred-true": 242341.73266419003,
          "true": 184749.99999999985
         },
         {
          "id": 272,
          "pred": 182834.73829402443,
          "pred-true": -35165.261705975485,
          "true": 217999.9999999999
         },
         {
          "id": 273,
          "pred": 227913.46090824995,
          "pred-true": 20413.460908250097,
          "true": 207499.99999999985
         },
         {
          "id": 274,
          "pred": 307561.72203061194,
          "pred-true": -122438.27796938823,
          "true": 430000.0000000002
         },
         {
          "id": 275,
          "pred": 214023.89355310093,
          "pred-true": 4023.8935531008465,
          "true": 210000.0000000001
         },
         {
          "id": 276,
          "pred": 188449.45883775025,
          "pred-true": 45449.45883775034,
          "true": 142999.9999999999
         },
         {
          "id": 277,
          "pred": 178107.0287839417,
          "pred-true": -9892.971216058417,
          "true": 188000.00000000012
         },
         {
          "id": 278,
          "pred": 421814.1907054616,
          "pred-true": 40814.19070546125,
          "true": 381000.00000000035
         },
         {
          "id": 279,
          "pred": 213040.17880182405,
          "pred-true": -209.82119817609782,
          "true": 213250.00000000015
         },
         {
          "id": 280,
          "pred": 196143.06893375964,
          "pred-true": -8606.93106624033,
          "true": 204749.99999999997
         },
         {
          "id": 281,
          "pred": 140374.25079072767,
          "pred-true": 3874.2507907275867,
          "true": 136500.0000000001
         },
         {
          "id": 282,
          "pred": 110515.33157569019,
          "pred-true": 4615.33157569023,
          "true": 105899.99999999996
         },
         {
          "id": 283,
          "pred": 241852.81193788451,
          "pred-true": 6852.811937884573,
          "true": 234999.99999999994
         },
         {
          "id": 284,
          "pred": 220453.82989285095,
          "pred-true": -42546.170107149286,
          "true": 263000.00000000023
         },
         {
          "id": 285,
          "pred": 118972.4604607285,
          "pred-true": -11027.539539271558,
          "true": 130000.00000000006
         },
         {
          "id": 286,
          "pred": 121827.23594345458,
          "pred-true": 10577.235943454536,
          "true": 111250.00000000004
         },
         {
          "id": 287,
          "pred": 136129.02180578402,
          "pred-true": 8129.021805783981,
          "true": 128000.00000000004
         },
         {
          "id": 288,
          "pred": 207308.39362575862,
          "pred-true": 4408.39362575853,
          "true": 202900.0000000001
         },
         {
          "id": 289,
          "pred": 132222.91369427336,
          "pred-true": -7777.086305726552,
          "true": 139999.9999999999
         },
         {
          "id": 290,
          "pred": 128755.81755417683,
          "pred-true": -6744.182445823142,
          "true": 135499.99999999997
         },
         {
          "id": 291,
          "pred": 132012.14469860002,
          "pred-true": -19987.855301399948,
          "true": 151999.99999999997
         },
         {
          "id": 292,
          "pred": 200400.5835473996,
          "pred-true": 6400.583547399641,
          "true": 193999.99999999997
         },
         {
          "id": 293,
          "pred": 480137.0741375526,
          "pred-true": -274862.9258624473,
          "true": 754999.9999999999
         },
         {
          "id": 294,
          "pred": 258985.4373470478,
          "pred-true": -28104.56265295227,
          "true": 287090.00000000006
         },
         {
          "id": 295,
          "pred": 112289.53045702317,
          "pred-true": -6210.469542976833,
          "true": 118500
         },
         {
          "id": 296,
          "pred": 271515.2162886464,
          "pred-true": 5015.216288646334,
          "true": 266500.00000000006
         },
         {
          "id": 297,
          "pred": 192600.00441706713,
          "pred-true": -5899.995582932868,
          "true": 198500
         },
         {
          "id": 298,
          "pred": 147172.90589887678,
          "pred-true": 2172.9058988768375,
          "true": 144999.99999999994
         },
         {
          "id": 299,
          "pred": 112368.88711415259,
          "pred-true": -5631.112885847324,
          "true": 117999.99999999991
         },
         {
          "id": 300,
          "pred": 72737.58786006828,
          "pred-true": -9262.412139931796,
          "true": 82000.00000000007
         },
         {
          "id": 301,
          "pred": 283999.26089410787,
          "pred-true": 17999.260894107923,
          "true": 265999.99999999994
         },
         {
          "id": 302,
          "pred": 84059.87090178272,
          "pred-true": -5440.12909821725,
          "true": 89499.99999999997
         },
         {
          "id": 303,
          "pred": 134998.91681960132,
          "pred-true": -25001.083180398593,
          "true": 159999.9999999999
         },
         {
          "id": 304,
          "pred": 136046.44955851554,
          "pred-true": 10046.449558515465,
          "true": 126000.00000000007
         },
         {
          "id": 305,
          "pred": 180346.26862034798,
          "pred-true": 4846.268620348099,
          "true": 175499.99999999988
         },
         {
          "id": 306,
          "pred": 138266.50934468242,
          "pred-true": -11733.490655317524,
          "true": 149999.99999999994
         },
         {
          "id": 307,
          "pred": 204360.21090041983,
          "pred-true": -35639.78909958032,
          "true": 240000.00000000015
         },
         {
          "id": 308,
          "pred": 80183.52245806335,
          "pred-true": 45283.522458063344,
          "true": 34900.00000000001
         },
         {
          "id": 309,
          "pred": 195053.5946422644,
          "pred-true": -17946.40535773564,
          "true": 213000.00000000003
         },
         {
          "id": 310,
          "pred": 129954.90678441865,
          "pred-true": 22454.90678441862,
          "true": 107500.00000000003
         },
         {
          "id": 311,
          "pred": 282883.5547234213,
          "pred-true": 43197.554723421345,
          "true": 239685.99999999994
         },
         {
          "id": 312,
          "pred": 263093.92450486904,
          "pred-true": 6793.92450486921,
          "true": 256299.99999999983
         },
         {
          "id": 313,
          "pred": 398448.9307144476,
          "pred-true": -27551.069285552483,
          "true": 426000.00000000006
         },
         {
          "id": 314,
          "pred": 173989.14799848438,
          "pred-true": -3010.852001515683,
          "true": 177000.00000000006
         },
         {
          "id": 315,
          "pred": 161562.10602650716,
          "pred-true": -17837.893973492755,
          "true": 179399.9999999999
         },
         {
          "id": 316,
          "pred": 243252.73857311622,
          "pred-true": 13796.738573116134,
          "true": 229456.0000000001
         },
         {
          "id": 317,
          "pred": 113546.80484410319,
          "pred-true": -10953.195155896741,
          "true": 124499.99999999993
         },
         {
          "id": 318,
          "pred": 145164.11798365792,
          "pred-true": -2835.8820163419878,
          "true": 147999.9999999999
         },
         {
          "id": 319,
          "pred": 123542.80452576072,
          "pred-true": -4957.195474239386,
          "true": 128500.0000000001
         },
         {
          "id": 320,
          "pred": 130622.12519306224,
          "pred-true": -5877.874806937849,
          "true": 136500.0000000001
         },
         {
          "id": 321,
          "pred": 144411.89135974078,
          "pred-true": -3588.108640259132,
          "true": 147999.9999999999
         },
         {
          "id": 322,
          "pred": 142823.08556733097,
          "pred-true": 25823.08556733097,
          "true": 117000
         },
         {
          "id": 323,
          "pred": 215141.80975543594,
          "pred-true": 11141.809755435883,
          "true": 204000.00000000006
         },
         {
          "id": 324,
          "pred": 94037.66862193815,
          "pred-true": 9037.668621938152,
          "true": 85000
         },
         {
          "id": 325,
          "pred": 132866.03128422872,
          "pred-true": 6866.031284228651,
          "true": 126000.00000000007
         },
         {
          "id": 326,
          "pred": 135414.9272260975,
          "pred-true": -3585.072773902444,
          "true": 138999.99999999994
         },
         {
          "id": 327,
          "pred": 198796.0379870483,
          "pred-true": -9703.962012951815,
          "true": 208500.00000000012
         },
         {
          "id": 328,
          "pred": 147552.28048728165,
          "pred-true": 752.2804872816196,
          "true": 146800.00000000003
         },
         {
          "id": 329,
          "pred": 417857.08677183895,
          "pred-true": 37857.08677183866,
          "true": 380000.0000000003
         },
         {
          "id": 330,
          "pred": 218667.9047643726,
          "pred-true": 31167.904764372535,
          "true": 187500.00000000006
         },
         {
          "id": 331,
          "pred": 343860.5160344492,
          "pred-true": 56860.51603444945,
          "true": 286999.99999999977
         },
         {
          "id": 332,
          "pred": 204225.89247282842,
          "pred-true": 1725.8924728283891,
          "true": 202500.00000000003
         },
         {
          "id": 333,
          "pred": 68186.45963076652,
          "pred-true": 32875.459630766505,
          "true": 35311.000000000015
         },
         {
          "id": 334,
          "pred": 169623.16992621764,
          "pred-true": 5723.169926217699,
          "true": 163899.99999999994
         },
         {
          "id": 335,
          "pred": 210155.99718746202,
          "pred-true": -19844.00281253818,
          "true": 230000.0000000002
         },
         {
          "id": 336,
          "pred": 184649.91859906446,
          "pred-true": -74850.08140093563,
          "true": 259500.0000000001
         },
         {
          "id": 337,
          "pred": 137778.52061038208,
          "pred-true": 12878.520610382038,
          "true": 124900.00000000004
         },
         {
          "id": 338,
          "pred": 260409.03581513723,
          "pred-true": 12409.035815137438,
          "true": 247999.9999999998
         },
         {
          "id": 339,
          "pred": 134292.20031264707,
          "pred-true": -4707.7996873528755,
          "true": 138999.99999999994
         },
         {
          "id": 340,
          "pred": 169133.58517175185,
          "pred-true": -7298.414828248235,
          "true": 176432.0000000001
         },
         {
          "id": 341,
          "pred": 196333.90937186676,
          "pred-true": 36833.9093718667,
          "true": 159500.00000000006
         },
         {
          "id": 342,
          "pred": 90617.73468251205,
          "pred-true": -3882.265317487938,
          "true": 94499.99999999999
         },
         {
          "id": 343,
          "pred": 96678.88284830046,
          "pred-true": -9321.117151699582,
          "true": 106000.00000000004
         },
         {
          "id": 344,
          "pred": 321886.3604742085,
          "pred-true": -18113.639525791572,
          "true": 340000.00000000006
         },
         {
          "id": 345,
          "pred": 277146.6392566947,
          "pred-true": -38603.36074330547,
          "true": 315750.0000000002
         },
         {
          "id": 346,
          "pred": 171788.36580147652,
          "pred-true": -84211.63419852359,
          "true": 256000.00000000012
         },
         {
          "id": 347,
          "pred": 192967.57146751895,
          "pred-true": -9532.428532481077,
          "true": 202500.00000000003
         },
         {
          "id": 348,
          "pred": 70900.57533253079,
          "pred-true": 3900.575332530774,
          "true": 67000.00000000001
         },
         {
          "id": 349,
          "pred": 163392.82610572185,
          "pred-true": -25607.173894278152,
          "true": 189000
         },
         {
          "id": 350,
          "pred": 99542.01833485886,
          "pred-true": -10457.981665141051,
          "true": 109999.99999999991
         },
         {
          "id": 351,
          "pred": 236257.3137707327,
          "pred-true": 14757.313770732755,
          "true": 221499.99999999994
         },
         {
          "id": 352,
          "pred": 139884.77881815215,
          "pred-true": -12115.221181847824,
          "true": 151999.99999999997
         },
         {
          "id": 353,
          "pred": 229693.14448239704,
          "pred-true": 3693.1444823970087,
          "true": 226000.00000000003
         },
         {
          "id": 354,
          "pred": 119266.77598626963,
          "pred-true": 9266.775986269713,
          "true": 109999.99999999991
         },
         {
          "id": 355,
          "pred": 165927.5327890844,
          "pred-true": 7927.532789084275,
          "true": 158000.00000000012
         },
         {
          "id": 356,
          "pred": 128128.56005447575,
          "pred-true": 15628.560054475689,
          "true": 112500.00000000006
         },
         {
          "id": 357,
          "pred": 119994.0498911544,
          "pred-true": -5005.9501088455145,
          "true": 124999.99999999991
         },
         {
          "id": 358,
          "pred": 406815.80781217344,
          "pred-true": -8482.192187826382,
          "true": 415297.9999999998
         },
         {
          "id": 359,
          "pred": 178599.35482132368,
          "pred-true": -6400.645178676379,
          "true": 185000.00000000006
         },
         {
          "id": 360,
          "pred": 152093.96415860308,
          "pred-true": -9406.03584139698,
          "true": 161500.00000000006
         },
         {
          "id": 361,
          "pred": 179456.27685070498,
          "pred-true": 7706.276850704948,
          "true": 171750.00000000003
         },
         {
          "id": 362,
          "pred": 110059.70739590829,
          "pred-true": -8340.292604091752,
          "true": 118400.00000000004
         },
         {
          "id": 363,
          "pred": 427627.563778681,
          "pred-true": 25627.56377868104,
          "true": 401999.99999999994
         },
         {
          "id": 364,
          "pred": 201864.4406128382,
          "pred-true": 1864.440612838138,
          "true": 200000.00000000006
         },
         {
          "id": 365,
          "pred": 219207.37380572796,
          "pred-true": 5207.373805727868,
          "true": 214000.0000000001
         },
         {
          "id": 366,
          "pred": 348201.8535286086,
          "pred-true": 33388.85352860857,
          "true": 314813.00000000006
         },
         {
          "id": 367,
          "pred": 162157.09888546035,
          "pred-true": -11842.901114539622,
          "true": 173999.99999999997
         },
         {
          "id": 368,
          "pred": 271543.0327110311,
          "pred-true": -29456.967288968735,
          "true": 300999.9999999998
         },
         {
          "id": 369,
          "pred": 171251.40553047575,
          "pred-true": -37648.594469524134,
          "true": 208899.99999999988
         },
         {
          "id": 370,
          "pred": 232675.98709474763,
          "pred-true": -7324.012905252515,
          "true": 240000.00000000015
         },
         {
          "id": 371,
          "pred": 130380.87029713739,
          "pred-true": 13880.870297137371,
          "true": 116500.00000000001
         },
         {
          "id": 372,
          "pred": 209439.11528960447,
          "pred-true": -17560.88471039533,
          "true": 226999.9999999998
         },
         {
          "id": 373,
          "pred": 178299.44426365168,
          "pred-true": 4399.44426365156,
          "true": 173900.00000000012
         },
         {
          "id": 374,
          "pred": 119341.1736318255,
          "pred-true": 14341.173631825455,
          "true": 105000.00000000004
         },
         {
          "id": 375,
          "pred": 230464.36598830685,
          "pred-true": -11035.634011692979,
          "true": 241499.99999999983
         },
         {
          "id": 376,
          "pred": 162986.33029634572,
          "pred-true": 986.3302963458409,
          "true": 161999.99999999988
         },
         {
          "id": 377,
          "pred": 222705.79166017094,
          "pred-true": -10294.208339829114,
          "true": 233000.00000000006
         },
         {
          "id": 378,
          "pred": 150927.90119225846,
          "pred-true": -14072.098807741597,
          "true": 165000.00000000006
         },
         {
          "id": 379,
          "pred": 174496.71255344505,
          "pred-true": -503.28744655498303,
          "true": 175000.00000000003
         },
         {
          "id": 380,
          "pred": 336763.0749651195,
          "pred-true": 11763.074965119595,
          "true": 324999.9999999999
         },
         {
          "id": 381,
          "pred": 245292.70071332878,
          "pred-true": 6292.700713328755,
          "true": 239000.00000000003
         },
         {
          "id": 382,
          "pred": 208899.45523776353,
          "pred-true": 10999.455237763497,
          "true": 197900.00000000003
         },
         {
          "id": 383,
          "pred": 136169.52527988591,
          "pred-true": 6169.525279885856,
          "true": 130000.00000000006
         },
         {
          "id": 384,
          "pred": 339382.4997388671,
          "pred-true": 1882.4997388671036,
          "true": 337500
         },
         {
          "id": 385,
          "pred": 169073.02549605223,
          "pred-true": -40926.97450394786,
          "true": 210000.0000000001
         },
         {
          "id": 386,
          "pred": 170290.78768178597,
          "pred-true": 25290.787681786023,
          "true": 144999.99999999994
         },
         {
          "id": 387,
          "pred": 141925.48035359263,
          "pred-true": -2074.5196464074834,
          "true": 144000.00000000012
         },
         {
          "id": 388,
          "pred": 128394.86397460067,
          "pred-true": -14855.13602539945,
          "true": 143250.00000000012
         },
         {
          "id": 389,
          "pred": 206492.2751528497,
          "pred-true": -10507.724847150472,
          "true": 217000.00000000017
         },
         {
          "id": 390,
          "pred": 188300.4877962922,
          "pred-true": -399.5122037078545,
          "true": 188700.00000000006
         },
         {
          "id": 391,
          "pred": 229929.52470314436,
          "pred-true": -6070.475296855468,
          "true": 235999.99999999983
         },
         {
          "id": 392,
          "pred": 139383.45112832886,
          "pred-true": -12116.54887167117,
          "true": 151500.00000000003
         },
         {
          "id": 393,
          "pred": 217541.74086800314,
          "pred-true": 4541.740868003108,
          "true": 213000.00000000003
         },
         {
          "id": 394,
          "pred": 254023.97439488766,
          "pred-true": 2023.974394887482,
          "true": 252000.00000000017
         },
         {
          "id": 395,
          "pred": 175471.18435124148,
          "pred-true": -4068.815648758551,
          "true": 179540.00000000003
         },
         {
          "id": 396,
          "pred": 270204.07157826633,
          "pred-true": -14795.928421733668,
          "true": 285000
         },
         {
          "id": 397,
          "pred": 172552.30792753695,
          "pred-true": 7052.307927537011,
          "true": 165499.99999999994
         },
         {
          "id": 398,
          "pred": 139103.24906864145,
          "pred-true": -896.7509313584596,
          "true": 139999.9999999999
         },
         {
          "id": 399,
          "pred": 137979.35996924905,
          "pred-true": -520.6400307510339,
          "true": 138500.0000000001
         },
         {
          "id": 400,
          "pred": 199166.38182797594,
          "pred-true": 23166.381827975914,
          "true": 176000.00000000003
         },
         {
          "id": 401,
          "pred": 324726.39529485244,
          "pred-true": -37192.604705147445,
          "true": 361918.9999999999
         },
         {
          "id": 402,
          "pred": 191130.70895776898,
          "pred-true": 11530.708957768977,
          "true": 179600
         },
         {
          "id": 403,
          "pred": 225380.04680793855,
          "pred-true": -46619.95319206128,
          "true": 271999.9999999998
         },
         {
          "id": 404,
          "pred": 143107.21108968704,
          "pred-true": -892.7889103130728,
          "true": 144000.00000000012
         },
         {
          "id": 405,
          "pred": 115031.497782566,
          "pred-true": -20718.502217434027,
          "true": 135750.00000000003
         },
         {
          "id": 406,
          "pred": 185611.0224837211,
          "pred-true": -10388.977516278945,
          "true": 196000.00000000006
         },
         {
          "id": 407,
          "pred": 101809.43475459564,
          "pred-true": -16190.565245404272,
          "true": 117999.99999999991
         },
         {
          "id": 408,
          "pred": 236517.10380304046,
          "pred-true": 8517.103803040663,
          "true": 227999.9999999998
         },
         {
          "id": 409,
          "pred": 138445.11049868143,
          "pred-true": 3995.110498681548,
          "true": 134449.99999999988
         },
         {
          "id": 410,
          "pred": 127801.5439781517,
          "pred-true": 3801.5439781516034,
          "true": 124000.0000000001
         },
         {
          "id": 411,
          "pred": 208098.90198065437,
          "pred-true": -23401.098019345576,
          "true": 231499.99999999994
         },
         {
          "id": 412,
          "pred": 131343.91615871372,
          "pred-true": -3656.083841286396,
          "true": 135000.00000000012
         },
         {
          "id": 413,
          "pred": 146725.4038189439,
          "pred-true": -4274.5961810562,
          "true": 151000.0000000001
         },
         {
          "id": 414,
          "pred": 153136.86191302107,
          "pred-true": -12363.13808697887,
          "true": 165499.99999999994
         },
         {
          "id": 415,
          "pred": 170589.38631457166,
          "pred-true": 48589.38631457156,
          "true": 122000.0000000001
         },
         {
          "id": 416,
          "pred": 129785.06972732545,
          "pred-true": -6714.930272674639,
          "true": 136500.0000000001
         },
         {
          "id": 417,
          "pred": 276837.5441733338,
          "pred-true": -4162.4558266660315,
          "true": 280999.9999999998
         },
         {
          "id": 418,
          "pred": 146977.22306980903,
          "pred-true": 18977.223069808984,
          "true": 128000.00000000004
         },
         {
          "id": 419,
          "pred": 155631.86799493703,
          "pred-true": -6868.132005062886,
          "true": 162499.9999999999
         },
         {
          "id": 420,
          "pred": 102880.30831544731,
          "pred-true": 14880.308315447299,
          "true": 88000.00000000001
         },
         {
          "id": 421,
          "pred": 121505.10800426776,
          "pred-true": -6494.89199573228,
          "true": 128000.00000000004
         },
         {
          "id": 422,
          "pred": 151534.4825122429,
          "pred-true": -5465.517487757024,
          "true": 156999.9999999999
         },
         {
          "id": 423,
          "pred": 281089.9247079762,
          "pred-true": -111410.07529202389,
          "true": 392500.0000000001
         },
         {
          "id": 424,
          "pred": 212770.28227978852,
          "pred-true": -15104.717720211367,
          "true": 227874.99999999988
         },
         {
          "id": 425,
          "pred": 217140.15369433066,
          "pred-true": -7759.846305669227,
          "true": 224899.99999999988
         },
         {
          "id": 426,
          "pred": 150277.49299261085,
          "pred-true": -12622.507007389242,
          "true": 162900.0000000001
         },
         {
          "id": 427,
          "pred": 150818.07811498386,
          "pred-true": -8181.921885016112,
          "true": 158999.99999999997
         },
         {
          "id": 428,
          "pred": 146184.89145207222,
          "pred-true": 15184.89145207229,
          "true": 130999.99999999993
         },
         {
          "id": 429,
          "pred": 204246.1913176649,
          "pred-true": -34753.80868233513,
          "true": 239000.00000000003
         },
         {
          "id": 430,
          "pred": 157431.77353151585,
          "pred-true": -19568.22646848421,
          "true": 177000.00000000006
         },
         {
          "id": 431,
          "pred": 156828.55631556208,
          "pred-true": 6928.556315562135,
          "true": 149899.99999999994
         },
         {
          "id": 432,
          "pred": 76773.37097427723,
          "pred-true": -3726.629025722752,
          "true": 80499.99999999999
         },
         {
          "id": 433,
          "pred": 332737.4010132451,
          "pred-true": 7437.401013244991,
          "true": 325300.0000000001
         },
         {
          "id": 434,
          "pred": 236524.87464902306,
          "pred-true": -13475.12535097677,
          "true": 249999.99999999983
         },
         {
          "id": 435,
          "pred": 162516.3850816614,
          "pred-true": -18483.614918338455,
          "true": 180999.99999999985
         },
         {
          "id": 436,
          "pred": 185790.03863767596,
          "pred-true": 10790.038637675927,
          "true": 175000.00000000003
         },
         {
          "id": 437,
          "pred": 127875.85125977574,
          "pred-true": -124.1487402243074,
          "true": 128000.00000000004
         }
        ],
        "data-c182c41331357aac68a797a44a5f8dc0": [
         {
          "id": 0,
          "sale_price": 134196.34393664426,
          "type": "pred"
         },
         {
          "id": 1,
          "sale_price": 199791.05928116685,
          "type": "pred"
         },
         {
          "id": 2,
          "sale_price": 226059.34262090773,
          "type": "pred"
         },
         {
          "id": 3,
          "sale_price": 219302.3494218502,
          "type": "pred"
         },
         {
          "id": 4,
          "sale_price": 180542.54954954644,
          "type": "pred"
         },
         {
          "id": 5,
          "sale_price": 513536.4027118919,
          "type": "pred"
         },
         {
          "id": 6,
          "sale_price": 269000.91805054573,
          "type": "pred"
         },
         {
          "id": 7,
          "sale_price": 127482.4398145859,
          "type": "pred"
         },
         {
          "id": 8,
          "sale_price": 163549.53005534055,
          "type": "pred"
         },
         {
          "id": 9,
          "sale_price": 197553.41851805418,
          "type": "pred"
         },
         {
          "id": 10,
          "sale_price": 186072.861087695,
          "type": "pred"
         },
         {
          "id": 11,
          "sale_price": 303717.91267475026,
          "type": "pred"
         },
         {
          "id": 12,
          "sale_price": 203151.94293381553,
          "type": "pred"
         },
         {
          "id": 13,
          "sale_price": 202853.53153438613,
          "type": "pred"
         },
         {
          "id": 14,
          "sale_price": 359187.3706626275,
          "type": "pred"
         },
         {
          "id": 15,
          "sale_price": 171017.03305101796,
          "type": "pred"
         },
         {
          "id": 16,
          "sale_price": 203793.99558784426,
          "type": "pred"
         },
         {
          "id": 17,
          "sale_price": 262835.1825053474,
          "type": "pred"
         },
         {
          "id": 18,
          "sale_price": 145145.7397056239,
          "type": "pred"
         },
         {
          "id": 19,
          "sale_price": 112087.16580307041,
          "type": "pred"
         },
         {
          "id": 20,
          "sale_price": 81342.90955262128,
          "type": "pred"
         },
         {
          "id": 21,
          "sale_price": 187319.7617971224,
          "type": "pred"
         },
         {
          "id": 22,
          "sale_price": 274719.57280621305,
          "type": "pred"
         },
         {
          "id": 23,
          "sale_price": 232897.33109505085,
          "type": "pred"
         },
         {
          "id": 24,
          "sale_price": 99787.58276207608,
          "type": "pred"
         },
         {
          "id": 25,
          "sale_price": 169555.34840246852,
          "type": "pred"
         },
         {
          "id": 26,
          "sale_price": 168813.73207470978,
          "type": "pred"
         },
         {
          "id": 27,
          "sale_price": 169325.33016135843,
          "type": "pred"
         },
         {
          "id": 28,
          "sale_price": 171687.8279116036,
          "type": "pred"
         },
         {
          "id": 29,
          "sale_price": 139571.05385077983,
          "type": "pred"
         },
         {
          "id": 30,
          "sale_price": 369832.66169461,
          "type": "pred"
         },
         {
          "id": 31,
          "sale_price": 190557.3779894834,
          "type": "pred"
         },
         {
          "id": 32,
          "sale_price": 108089.92072519203,
          "type": "pred"
         },
         {
          "id": 33,
          "sale_price": 183655.33465971463,
          "type": "pred"
         },
         {
          "id": 34,
          "sale_price": 233797.62957899555,
          "type": "pred"
         },
         {
          "id": 35,
          "sale_price": 242768.7030653285,
          "type": "pred"
         },
         {
          "id": 36,
          "sale_price": 207236.97361347853,
          "type": "pred"
         },
         {
          "id": 37,
          "sale_price": 247856.31429708927,
          "type": "pred"
         },
         {
          "id": 38,
          "sale_price": 171377.40745538127,
          "type": "pred"
         },
         {
          "id": 39,
          "sale_price": 103261.03724651839,
          "type": "pred"
         },
         {
          "id": 40,
          "sale_price": 122298.31162800141,
          "type": "pred"
         },
         {
          "id": 41,
          "sale_price": 148206.31357317176,
          "type": "pred"
         },
         {
          "id": 42,
          "sale_price": 131848.29375523143,
          "type": "pred"
         },
         {
          "id": 43,
          "sale_price": 142898.56529205316,
          "type": "pred"
         },
         {
          "id": 44,
          "sale_price": 114562.72061463897,
          "type": "pred"
         },
         {
          "id": 45,
          "sale_price": 187914.15221670447,
          "type": "pred"
         },
         {
          "id": 46,
          "sale_price": 269415.0520363262,
          "type": "pred"
         },
         {
          "id": 47,
          "sale_price": 200670.87902746044,
          "type": "pred"
         },
         {
          "id": 48,
          "sale_price": 210178.0298293552,
          "type": "pred"
         },
         {
          "id": 49,
          "sale_price": 149324.46528660145,
          "type": "pred"
         },
         {
          "id": 50,
          "sale_price": 221215.8916439838,
          "type": "pred"
         },
         {
          "id": 51,
          "sale_price": 180881.20608009904,
          "type": "pred"
         },
         {
          "id": 52,
          "sale_price": 222412.24218701967,
          "type": "pred"
         },
         {
          "id": 53,
          "sale_price": 168886.00587996698,
          "type": "pred"
         },
         {
          "id": 54,
          "sale_price": 235952.33955255398,
          "type": "pred"
         },
         {
          "id": 55,
          "sale_price": 324738.99095253076,
          "type": "pred"
         },
         {
          "id": 56,
          "sale_price": 99002.20808988436,
          "type": "pred"
         },
         {
          "id": 57,
          "sale_price": 151498.89034548294,
          "type": "pred"
         },
         {
          "id": 58,
          "sale_price": 177925.8165001633,
          "type": "pred"
         },
         {
          "id": 59,
          "sale_price": 312673.92859073746,
          "type": "pred"
         },
         {
          "id": 60,
          "sale_price": 186662.51353839898,
          "type": "pred"
         },
         {
          "id": 61,
          "sale_price": 104538.63399650354,
          "type": "pred"
         },
         {
          "id": 62,
          "sale_price": 190460.63545402186,
          "type": "pred"
         },
         {
          "id": 63,
          "sale_price": 211478.20963252254,
          "type": "pred"
         },
         {
          "id": 64,
          "sale_price": 131930.90998596675,
          "type": "pred"
         },
         {
          "id": 65,
          "sale_price": 272715.9928901065,
          "type": "pred"
         },
         {
          "id": 66,
          "sale_price": 116303.99313319488,
          "type": "pred"
         },
         {
          "id": 67,
          "sale_price": 109100.36814693405,
          "type": "pred"
         },
         {
          "id": 68,
          "sale_price": 164769.4183084783,
          "type": "pred"
         },
         {
          "id": 69,
          "sale_price": 134778.3769538794,
          "type": "pred"
         },
         {
          "id": 70,
          "sale_price": 122052.29841124013,
          "type": "pred"
         },
         {
          "id": 71,
          "sale_price": 256028.62224823018,
          "type": "pred"
         },
         {
          "id": 72,
          "sale_price": 157458.5410690476,
          "type": "pred"
         },
         {
          "id": 73,
          "sale_price": 75349.14142087358,
          "type": "pred"
         },
         {
          "id": 74,
          "sale_price": 144622.48293273145,
          "type": "pred"
         },
         {
          "id": 75,
          "sale_price": 162627.61820335872,
          "type": "pred"
         },
         {
          "id": 76,
          "sale_price": 80126.86137266594,
          "type": "pred"
         },
         {
          "id": 77,
          "sale_price": 113328.102979274,
          "type": "pred"
         },
         {
          "id": 78,
          "sale_price": 254722.18341702368,
          "type": "pred"
         },
         {
          "id": 79,
          "sale_price": 92314.80235741884,
          "type": "pred"
         },
         {
          "id": 80,
          "sale_price": 148629.19286711208,
          "type": "pred"
         },
         {
          "id": 81,
          "sale_price": 162983.46548421806,
          "type": "pred"
         },
         {
          "id": 82,
          "sale_price": 163056.860368435,
          "type": "pred"
         },
         {
          "id": 83,
          "sale_price": 159621.583289316,
          "type": "pred"
         },
         {
          "id": 84,
          "sale_price": 370968.3943450631,
          "type": "pred"
         },
         {
          "id": 85,
          "sale_price": 336793.0331091637,
          "type": "pred"
         },
         {
          "id": 86,
          "sale_price": 235271.3129547992,
          "type": "pred"
         },
         {
          "id": 87,
          "sale_price": 140879.85490171978,
          "type": "pred"
         },
         {
          "id": 88,
          "sale_price": 159337.6709071059,
          "type": "pred"
         },
         {
          "id": 89,
          "sale_price": 196201.05038744703,
          "type": "pred"
         },
         {
          "id": 90,
          "sale_price": 167368.01802433553,
          "type": "pred"
         },
         {
          "id": 91,
          "sale_price": 255282.6979902306,
          "type": "pred"
         },
         {
          "id": 92,
          "sale_price": 89909.952962653,
          "type": "pred"
         },
         {
          "id": 93,
          "sale_price": 122821.05366474182,
          "type": "pred"
         },
         {
          "id": 94,
          "sale_price": 120552.61029304034,
          "type": "pred"
         },
         {
          "id": 95,
          "sale_price": 132652.89456617934,
          "type": "pred"
         },
         {
          "id": 96,
          "sale_price": 119020.12944923466,
          "type": "pred"
         },
         {
          "id": 97,
          "sale_price": 133395.94253266518,
          "type": "pred"
         },
         {
          "id": 98,
          "sale_price": 125371.55866001612,
          "type": "pred"
         },
         {
          "id": 99,
          "sale_price": 180097.6408728673,
          "type": "pred"
         },
         {
          "id": 100,
          "sale_price": 114766.0407959928,
          "type": "pred"
         },
         {
          "id": 101,
          "sale_price": 355589.6853566522,
          "type": "pred"
         },
         {
          "id": 102,
          "sale_price": 84394.54202599348,
          "type": "pred"
         },
         {
          "id": 103,
          "sale_price": 100123.34211911287,
          "type": "pred"
         },
         {
          "id": 104,
          "sale_price": 99589.84445615068,
          "type": "pred"
         },
         {
          "id": 105,
          "sale_price": 211095.73658205388,
          "type": "pred"
         },
         {
          "id": 106,
          "sale_price": 193707.21583176558,
          "type": "pred"
         },
         {
          "id": 107,
          "sale_price": 201784.12613491053,
          "type": "pred"
         },
         {
          "id": 108,
          "sale_price": 146674.85497100613,
          "type": "pred"
         },
         {
          "id": 109,
          "sale_price": 174693.3657495516,
          "type": "pred"
         },
         {
          "id": 110,
          "sale_price": 174978.98479536638,
          "type": "pred"
         },
         {
          "id": 111,
          "sale_price": 234799.70930027636,
          "type": "pred"
         },
         {
          "id": 112,
          "sale_price": 329212.0934353811,
          "type": "pred"
         },
         {
          "id": 113,
          "sale_price": 124339.4361657176,
          "type": "pred"
         },
         {
          "id": 114,
          "sale_price": 158897.3787932788,
          "type": "pred"
         },
         {
          "id": 115,
          "sale_price": 127961.29266422788,
          "type": "pred"
         },
         {
          "id": 116,
          "sale_price": 141940.8581850259,
          "type": "pred"
         },
         {
          "id": 117,
          "sale_price": 91483.12145315955,
          "type": "pred"
         },
         {
          "id": 118,
          "sale_price": 155395.77328986186,
          "type": "pred"
         },
         {
          "id": 119,
          "sale_price": 170385.56570955887,
          "type": "pred"
         },
         {
          "id": 120,
          "sale_price": 159651.15889780145,
          "type": "pred"
         },
         {
          "id": 121,
          "sale_price": 184670.2524993302,
          "type": "pred"
         },
         {
          "id": 122,
          "sale_price": 142508.87103486317,
          "type": "pred"
         },
         {
          "id": 123,
          "sale_price": 113494.76412742116,
          "type": "pred"
         },
         {
          "id": 124,
          "sale_price": 143886.6426786998,
          "type": "pred"
         },
         {
          "id": 125,
          "sale_price": 258714.27785071978,
          "type": "pred"
         },
         {
          "id": 126,
          "sale_price": 132118.80539780937,
          "type": "pred"
         },
         {
          "id": 127,
          "sale_price": 147093.46294128834,
          "type": "pred"
         },
         {
          "id": 128,
          "sale_price": 212277.32157625046,
          "type": "pred"
         },
         {
          "id": 129,
          "sale_price": 113167.35903457252,
          "type": "pred"
         },
         {
          "id": 130,
          "sale_price": 215334.24474112238,
          "type": "pred"
         },
         {
          "id": 131,
          "sale_price": 110715.57851741124,
          "type": "pred"
         },
         {
          "id": 132,
          "sale_price": 126318.54378728126,
          "type": "pred"
         },
         {
          "id": 133,
          "sale_price": 323407.71469252364,
          "type": "pred"
         },
         {
          "id": 134,
          "sale_price": 263335.7918249888,
          "type": "pred"
         },
         {
          "id": 135,
          "sale_price": 385363.634852532,
          "type": "pred"
         },
         {
          "id": 136,
          "sale_price": 135543.73876233783,
          "type": "pred"
         },
         {
          "id": 137,
          "sale_price": 112976.22532810108,
          "type": "pred"
         },
         {
          "id": 138,
          "sale_price": 195514.31602992446,
          "type": "pred"
         },
         {
          "id": 139,
          "sale_price": 165236.5602982023,
          "type": "pred"
         },
         {
          "id": 140,
          "sale_price": 158904.03206206913,
          "type": "pred"
         },
         {
          "id": 141,
          "sale_price": 287365.118548482,
          "type": "pred"
         },
         {
          "id": 142,
          "sale_price": 99402.33368799576,
          "type": "pred"
         },
         {
          "id": 143,
          "sale_price": 137306.32798442038,
          "type": "pred"
         },
         {
          "id": 144,
          "sale_price": 166522.3225375023,
          "type": "pred"
         },
         {
          "id": 145,
          "sale_price": 125768.07771013255,
          "type": "pred"
         },
         {
          "id": 146,
          "sale_price": 94098.13213325354,
          "type": "pred"
         },
         {
          "id": 147,
          "sale_price": 148207.9912986605,
          "type": "pred"
         },
         {
          "id": 148,
          "sale_price": 192824.77762652328,
          "type": "pred"
         },
         {
          "id": 149,
          "sale_price": 283508.7550080781,
          "type": "pred"
         },
         {
          "id": 150,
          "sale_price": 167215.07018581606,
          "type": "pred"
         },
         {
          "id": 151,
          "sale_price": 282675.4540006421,
          "type": "pred"
         },
         {
          "id": 152,
          "sale_price": 128016.80206503742,
          "type": "pred"
         },
         {
          "id": 153,
          "sale_price": 125620.64832099841,
          "type": "pred"
         },
         {
          "id": 154,
          "sale_price": 228792.5520894713,
          "type": "pred"
         },
         {
          "id": 155,
          "sale_price": 136209.98678925855,
          "type": "pred"
         },
         {
          "id": 156,
          "sale_price": 327991.04565696616,
          "type": "pred"
         },
         {
          "id": 157,
          "sale_price": 108497.76335880379,
          "type": "pred"
         },
         {
          "id": 158,
          "sale_price": 357856.79489384673,
          "type": "pred"
         },
         {
          "id": 159,
          "sale_price": 172618.50406039626,
          "type": "pred"
         },
         {
          "id": 160,
          "sale_price": 131046.3350694519,
          "type": "pred"
         },
         {
          "id": 161,
          "sale_price": 148699.06734369672,
          "type": "pred"
         },
         {
          "id": 162,
          "sale_price": 194337.97301684658,
          "type": "pred"
         },
         {
          "id": 163,
          "sale_price": 170481.53269491045,
          "type": "pred"
         },
         {
          "id": 164,
          "sale_price": 163846.89398658916,
          "type": "pred"
         },
         {
          "id": 165,
          "sale_price": 77873.87611639804,
          "type": "pred"
         },
         {
          "id": 166,
          "sale_price": 164217.14748219363,
          "type": "pred"
         },
         {
          "id": 167,
          "sale_price": 167092.12291064573,
          "type": "pred"
         },
         {
          "id": 168,
          "sale_price": 132919.97329316233,
          "type": "pred"
         },
         {
          "id": 169,
          "sale_price": 128013.06465125745,
          "type": "pred"
         },
         {
          "id": 170,
          "sale_price": 417327.04254816857,
          "type": "pred"
         },
         {
          "id": 171,
          "sale_price": 326090.0357028527,
          "type": "pred"
         },
         {
          "id": 172,
          "sale_price": 126171.06082869963,
          "type": "pred"
         },
         {
          "id": 173,
          "sale_price": 114125.42486355834,
          "type": "pred"
         },
         {
          "id": 174,
          "sale_price": 142894.19855100676,
          "type": "pred"
         },
         {
          "id": 175,
          "sale_price": 153643.17408489282,
          "type": "pred"
         },
         {
          "id": 176,
          "sale_price": 148467.18309799075,
          "type": "pred"
         },
         {
          "id": 177,
          "sale_price": 133648.5951675295,
          "type": "pred"
         },
         {
          "id": 178,
          "sale_price": 124683.87192467356,
          "type": "pred"
         },
         {
          "id": 179,
          "sale_price": 310548.15163716936,
          "type": "pred"
         },
         {
          "id": 180,
          "sale_price": 252848.367135845,
          "type": "pred"
         },
         {
          "id": 181,
          "sale_price": 145712.62076810683,
          "type": "pred"
         },
         {
          "id": 182,
          "sale_price": 174803.1903409421,
          "type": "pred"
         },
         {
          "id": 183,
          "sale_price": 133124.84820844338,
          "type": "pred"
         },
         {
          "id": 184,
          "sale_price": 167956.43901827463,
          "type": "pred"
         },
         {
          "id": 185,
          "sale_price": 199807.4955407246,
          "type": "pred"
         },
         {
          "id": 186,
          "sale_price": 142094.4608813482,
          "type": "pred"
         },
         {
          "id": 187,
          "sale_price": 213151.698211362,
          "type": "pred"
         },
         {
          "id": 188,
          "sale_price": 118226.7747651955,
          "type": "pred"
         },
         {
          "id": 189,
          "sale_price": 69210.47993073286,
          "type": "pred"
         },
         {
          "id": 190,
          "sale_price": 305439.63946891285,
          "type": "pred"
         },
         {
          "id": 191,
          "sale_price": 143545.48603933633,
          "type": "pred"
         },
         {
          "id": 192,
          "sale_price": 95422.96953401204,
          "type": "pred"
         },
         {
          "id": 193,
          "sale_price": 203598.06557121896,
          "type": "pred"
         },
         {
          "id": 194,
          "sale_price": 173191.48237267087,
          "type": "pred"
         },
         {
          "id": 195,
          "sale_price": 143823.57892833356,
          "type": "pred"
         },
         {
          "id": 196,
          "sale_price": 140657.9850546104,
          "type": "pred"
         },
         {
          "id": 197,
          "sale_price": 241667.83637039197,
          "type": "pred"
         },
         {
          "id": 198,
          "sale_price": 252785.4402002547,
          "type": "pred"
         },
         {
          "id": 199,
          "sale_price": 228722.95047687832,
          "type": "pred"
         },
         {
          "id": 200,
          "sale_price": 152525.23397039954,
          "type": "pred"
         },
         {
          "id": 201,
          "sale_price": 103962.91069140418,
          "type": "pred"
         },
         {
          "id": 202,
          "sale_price": 137684.06575738156,
          "type": "pred"
         },
         {
          "id": 203,
          "sale_price": 126358.20250369434,
          "type": "pred"
         },
         {
          "id": 204,
          "sale_price": 95516.12706059823,
          "type": "pred"
         },
         {
          "id": 205,
          "sale_price": 202015.48949094044,
          "type": "pred"
         },
         {
          "id": 206,
          "sale_price": 192432.22196431755,
          "type": "pred"
         },
         {
          "id": 207,
          "sale_price": 102609.52701356172,
          "type": "pred"
         },
         {
          "id": 208,
          "sale_price": 103228.24177148235,
          "type": "pred"
         },
         {
          "id": 209,
          "sale_price": 119670.33296103387,
          "type": "pred"
         },
         {
          "id": 210,
          "sale_price": 196680.03687649753,
          "type": "pred"
         },
         {
          "id": 211,
          "sale_price": 197109.68369723612,
          "type": "pred"
         },
         {
          "id": 212,
          "sale_price": 112795.55736271995,
          "type": "pred"
         },
         {
          "id": 213,
          "sale_price": 114095.84542510292,
          "type": "pred"
         },
         {
          "id": 214,
          "sale_price": 115061.66279235804,
          "type": "pred"
         },
         {
          "id": 215,
          "sale_price": 271036.47803102847,
          "type": "pred"
         },
         {
          "id": 216,
          "sale_price": 137625.8157599203,
          "type": "pred"
         },
         {
          "id": 217,
          "sale_price": 118071.96020501453,
          "type": "pred"
         },
         {
          "id": 218,
          "sale_price": 79056.94456608174,
          "type": "pred"
         },
         {
          "id": 219,
          "sale_price": 211314.4277883387,
          "type": "pred"
         },
         {
          "id": 220,
          "sale_price": 156193.7808451629,
          "type": "pred"
         },
         {
          "id": 221,
          "sale_price": 125916.32236532767,
          "type": "pred"
         },
         {
          "id": 222,
          "sale_price": 150628.81590026838,
          "type": "pred"
         },
         {
          "id": 223,
          "sale_price": 105744.49677579425,
          "type": "pred"
         },
         {
          "id": 224,
          "sale_price": 107598.57493409415,
          "type": "pred"
         },
         {
          "id": 225,
          "sale_price": 112791.85060883587,
          "type": "pred"
         },
         {
          "id": 226,
          "sale_price": 126508.88257974006,
          "type": "pred"
         },
         {
          "id": 227,
          "sale_price": 130175.46439540139,
          "type": "pred"
         },
         {
          "id": 228,
          "sale_price": 138987.49537100125,
          "type": "pred"
         },
         {
          "id": 229,
          "sale_price": 99543.93742134591,
          "type": "pred"
         },
         {
          "id": 230,
          "sale_price": 292808.35392670403,
          "type": "pred"
         },
         {
          "id": 231,
          "sale_price": 162978.7536352781,
          "type": "pred"
         },
         {
          "id": 232,
          "sale_price": 218503.56583534883,
          "type": "pred"
         },
         {
          "id": 233,
          "sale_price": 103294.09791282323,
          "type": "pred"
         },
         {
          "id": 234,
          "sale_price": 155137.8005239236,
          "type": "pred"
         },
         {
          "id": 235,
          "sale_price": 249668.91090592038,
          "type": "pred"
         },
         {
          "id": 236,
          "sale_price": 199367.024044399,
          "type": "pred"
         },
         {
          "id": 237,
          "sale_price": 80259.47949868842,
          "type": "pred"
         },
         {
          "id": 238,
          "sale_price": 144237.6905671898,
          "type": "pred"
         },
         {
          "id": 239,
          "sale_price": 119569.89195047138,
          "type": "pred"
         },
         {
          "id": 240,
          "sale_price": 135882.3997332311,
          "type": "pred"
         },
         {
          "id": 241,
          "sale_price": 143349.1093573309,
          "type": "pred"
         },
         {
          "id": 242,
          "sale_price": 202728.95413000806,
          "type": "pred"
         },
         {
          "id": 243,
          "sale_price": 149146.28559798637,
          "type": "pred"
         },
         {
          "id": 244,
          "sale_price": 183830.4673327641,
          "type": "pred"
         },
         {
          "id": 245,
          "sale_price": 170340.27639604485,
          "type": "pred"
         },
         {
          "id": 246,
          "sale_price": 208818.64288122384,
          "type": "pred"
         },
         {
          "id": 247,
          "sale_price": 370841.901241877,
          "type": "pred"
         },
         {
          "id": 248,
          "sale_price": 136924.1173366385,
          "type": "pred"
         },
         {
          "id": 249,
          "sale_price": 136685.26561380536,
          "type": "pred"
         },
         {
          "id": 250,
          "sale_price": 165552.83360012528,
          "type": "pred"
         },
         {
          "id": 251,
          "sale_price": 127788.56023153658,
          "type": "pred"
         },
         {
          "id": 252,
          "sale_price": 129851.999437417,
          "type": "pred"
         },
         {
          "id": 253,
          "sale_price": 257660.27279463506,
          "type": "pred"
         },
         {
          "id": 254,
          "sale_price": 174550.9306954815,
          "type": "pred"
         },
         {
          "id": 255,
          "sale_price": 154361.03380514338,
          "type": "pred"
         },
         {
          "id": 256,
          "sale_price": 74033.4101096479,
          "type": "pred"
         },
         {
          "id": 257,
          "sale_price": 209294.47657213022,
          "type": "pred"
         },
         {
          "id": 258,
          "sale_price": 206413.65083353053,
          "type": "pred"
         },
         {
          "id": 259,
          "sale_price": 130894.09853144934,
          "type": "pred"
         },
         {
          "id": 260,
          "sale_price": 131440.08006825784,
          "type": "pred"
         },
         {
          "id": 261,
          "sale_price": 170403.79040585842,
          "type": "pred"
         },
         {
          "id": 262,
          "sale_price": 127090.2375243053,
          "type": "pred"
         },
         {
          "id": 263,
          "sale_price": 190781.2247568618,
          "type": "pred"
         },
         {
          "id": 264,
          "sale_price": 133481.97556779315,
          "type": "pred"
         },
         {
          "id": 265,
          "sale_price": 143887.8528451355,
          "type": "pred"
         },
         {
          "id": 266,
          "sale_price": 128208.28429707284,
          "type": "pred"
         },
         {
          "id": 267,
          "sale_price": 244380.2256928235,
          "type": "pred"
         },
         {
          "id": 268,
          "sale_price": 174657.9175339213,
          "type": "pred"
         },
         {
          "id": 269,
          "sale_price": 131170.5496269818,
          "type": "pred"
         },
         {
          "id": 270,
          "sale_price": 189055.57489248284,
          "type": "pred"
         },
         {
          "id": 271,
          "sale_price": 427091.7326641899,
          "type": "pred"
         },
         {
          "id": 272,
          "sale_price": 182834.73829402443,
          "type": "pred"
         },
         {
          "id": 273,
          "sale_price": 227913.46090824995,
          "type": "pred"
         },
         {
          "id": 274,
          "sale_price": 307561.72203061194,
          "type": "pred"
         },
         {
          "id": 275,
          "sale_price": 214023.89355310093,
          "type": "pred"
         },
         {
          "id": 276,
          "sale_price": 188449.45883775025,
          "type": "pred"
         },
         {
          "id": 277,
          "sale_price": 178107.0287839417,
          "type": "pred"
         },
         {
          "id": 278,
          "sale_price": 421814.1907054616,
          "type": "pred"
         },
         {
          "id": 279,
          "sale_price": 213040.17880182405,
          "type": "pred"
         },
         {
          "id": 280,
          "sale_price": 196143.06893375964,
          "type": "pred"
         },
         {
          "id": 281,
          "sale_price": 140374.25079072767,
          "type": "pred"
         },
         {
          "id": 282,
          "sale_price": 110515.33157569019,
          "type": "pred"
         },
         {
          "id": 283,
          "sale_price": 241852.81193788451,
          "type": "pred"
         },
         {
          "id": 284,
          "sale_price": 220453.82989285095,
          "type": "pred"
         },
         {
          "id": 285,
          "sale_price": 118972.4604607285,
          "type": "pred"
         },
         {
          "id": 286,
          "sale_price": 121827.23594345458,
          "type": "pred"
         },
         {
          "id": 287,
          "sale_price": 136129.02180578402,
          "type": "pred"
         },
         {
          "id": 288,
          "sale_price": 207308.39362575862,
          "type": "pred"
         },
         {
          "id": 289,
          "sale_price": 132222.91369427336,
          "type": "pred"
         },
         {
          "id": 290,
          "sale_price": 128755.81755417683,
          "type": "pred"
         },
         {
          "id": 291,
          "sale_price": 132012.14469860002,
          "type": "pred"
         },
         {
          "id": 292,
          "sale_price": 200400.5835473996,
          "type": "pred"
         },
         {
          "id": 293,
          "sale_price": 480137.0741375526,
          "type": "pred"
         },
         {
          "id": 294,
          "sale_price": 258985.4373470478,
          "type": "pred"
         },
         {
          "id": 295,
          "sale_price": 112289.53045702317,
          "type": "pred"
         },
         {
          "id": 296,
          "sale_price": 271515.2162886464,
          "type": "pred"
         },
         {
          "id": 297,
          "sale_price": 192600.00441706713,
          "type": "pred"
         },
         {
          "id": 298,
          "sale_price": 147172.90589887678,
          "type": "pred"
         },
         {
          "id": 299,
          "sale_price": 112368.88711415259,
          "type": "pred"
         },
         {
          "id": 300,
          "sale_price": 72737.58786006828,
          "type": "pred"
         },
         {
          "id": 301,
          "sale_price": 283999.26089410787,
          "type": "pred"
         },
         {
          "id": 302,
          "sale_price": 84059.87090178272,
          "type": "pred"
         },
         {
          "id": 303,
          "sale_price": 134998.91681960132,
          "type": "pred"
         },
         {
          "id": 304,
          "sale_price": 136046.44955851554,
          "type": "pred"
         },
         {
          "id": 305,
          "sale_price": 180346.26862034798,
          "type": "pred"
         },
         {
          "id": 306,
          "sale_price": 138266.50934468242,
          "type": "pred"
         },
         {
          "id": 307,
          "sale_price": 204360.21090041983,
          "type": "pred"
         },
         {
          "id": 308,
          "sale_price": 80183.52245806335,
          "type": "pred"
         },
         {
          "id": 309,
          "sale_price": 195053.5946422644,
          "type": "pred"
         },
         {
          "id": 310,
          "sale_price": 129954.90678441865,
          "type": "pred"
         },
         {
          "id": 311,
          "sale_price": 282883.5547234213,
          "type": "pred"
         },
         {
          "id": 312,
          "sale_price": 263093.92450486904,
          "type": "pred"
         },
         {
          "id": 313,
          "sale_price": 398448.9307144476,
          "type": "pred"
         },
         {
          "id": 314,
          "sale_price": 173989.14799848438,
          "type": "pred"
         },
         {
          "id": 315,
          "sale_price": 161562.10602650716,
          "type": "pred"
         },
         {
          "id": 316,
          "sale_price": 243252.73857311622,
          "type": "pred"
         },
         {
          "id": 317,
          "sale_price": 113546.80484410319,
          "type": "pred"
         },
         {
          "id": 318,
          "sale_price": 145164.11798365792,
          "type": "pred"
         },
         {
          "id": 319,
          "sale_price": 123542.80452576072,
          "type": "pred"
         },
         {
          "id": 320,
          "sale_price": 130622.12519306224,
          "type": "pred"
         },
         {
          "id": 321,
          "sale_price": 144411.89135974078,
          "type": "pred"
         },
         {
          "id": 322,
          "sale_price": 142823.08556733097,
          "type": "pred"
         },
         {
          "id": 323,
          "sale_price": 215141.80975543594,
          "type": "pred"
         },
         {
          "id": 324,
          "sale_price": 94037.66862193815,
          "type": "pred"
         },
         {
          "id": 325,
          "sale_price": 132866.03128422872,
          "type": "pred"
         },
         {
          "id": 326,
          "sale_price": 135414.9272260975,
          "type": "pred"
         },
         {
          "id": 327,
          "sale_price": 198796.0379870483,
          "type": "pred"
         },
         {
          "id": 328,
          "sale_price": 147552.28048728165,
          "type": "pred"
         },
         {
          "id": 329,
          "sale_price": 417857.08677183895,
          "type": "pred"
         },
         {
          "id": 330,
          "sale_price": 218667.9047643726,
          "type": "pred"
         },
         {
          "id": 331,
          "sale_price": 343860.5160344492,
          "type": "pred"
         },
         {
          "id": 332,
          "sale_price": 204225.89247282842,
          "type": "pred"
         },
         {
          "id": 333,
          "sale_price": 68186.45963076652,
          "type": "pred"
         },
         {
          "id": 334,
          "sale_price": 169623.16992621764,
          "type": "pred"
         },
         {
          "id": 335,
          "sale_price": 210155.99718746202,
          "type": "pred"
         },
         {
          "id": 336,
          "sale_price": 184649.91859906446,
          "type": "pred"
         },
         {
          "id": 337,
          "sale_price": 137778.52061038208,
          "type": "pred"
         },
         {
          "id": 338,
          "sale_price": 260409.03581513723,
          "type": "pred"
         },
         {
          "id": 339,
          "sale_price": 134292.20031264707,
          "type": "pred"
         },
         {
          "id": 340,
          "sale_price": 169133.58517175185,
          "type": "pred"
         },
         {
          "id": 341,
          "sale_price": 196333.90937186676,
          "type": "pred"
         },
         {
          "id": 342,
          "sale_price": 90617.73468251205,
          "type": "pred"
         },
         {
          "id": 343,
          "sale_price": 96678.88284830046,
          "type": "pred"
         },
         {
          "id": 344,
          "sale_price": 321886.3604742085,
          "type": "pred"
         },
         {
          "id": 345,
          "sale_price": 277146.6392566947,
          "type": "pred"
         },
         {
          "id": 346,
          "sale_price": 171788.36580147652,
          "type": "pred"
         },
         {
          "id": 347,
          "sale_price": 192967.57146751895,
          "type": "pred"
         },
         {
          "id": 348,
          "sale_price": 70900.57533253079,
          "type": "pred"
         },
         {
          "id": 349,
          "sale_price": 163392.82610572185,
          "type": "pred"
         },
         {
          "id": 350,
          "sale_price": 99542.01833485886,
          "type": "pred"
         },
         {
          "id": 351,
          "sale_price": 236257.3137707327,
          "type": "pred"
         },
         {
          "id": 352,
          "sale_price": 139884.77881815215,
          "type": "pred"
         },
         {
          "id": 353,
          "sale_price": 229693.14448239704,
          "type": "pred"
         },
         {
          "id": 354,
          "sale_price": 119266.77598626963,
          "type": "pred"
         },
         {
          "id": 355,
          "sale_price": 165927.5327890844,
          "type": "pred"
         },
         {
          "id": 356,
          "sale_price": 128128.56005447575,
          "type": "pred"
         },
         {
          "id": 357,
          "sale_price": 119994.0498911544,
          "type": "pred"
         },
         {
          "id": 358,
          "sale_price": 406815.80781217344,
          "type": "pred"
         },
         {
          "id": 359,
          "sale_price": 178599.35482132368,
          "type": "pred"
         },
         {
          "id": 360,
          "sale_price": 152093.96415860308,
          "type": "pred"
         },
         {
          "id": 361,
          "sale_price": 179456.27685070498,
          "type": "pred"
         },
         {
          "id": 362,
          "sale_price": 110059.70739590829,
          "type": "pred"
         },
         {
          "id": 363,
          "sale_price": 427627.563778681,
          "type": "pred"
         },
         {
          "id": 364,
          "sale_price": 201864.4406128382,
          "type": "pred"
         },
         {
          "id": 365,
          "sale_price": 219207.37380572796,
          "type": "pred"
         },
         {
          "id": 366,
          "sale_price": 348201.8535286086,
          "type": "pred"
         },
         {
          "id": 367,
          "sale_price": 162157.09888546035,
          "type": "pred"
         },
         {
          "id": 368,
          "sale_price": 271543.0327110311,
          "type": "pred"
         },
         {
          "id": 369,
          "sale_price": 171251.40553047575,
          "type": "pred"
         },
         {
          "id": 370,
          "sale_price": 232675.98709474763,
          "type": "pred"
         },
         {
          "id": 371,
          "sale_price": 130380.87029713739,
          "type": "pred"
         },
         {
          "id": 372,
          "sale_price": 209439.11528960447,
          "type": "pred"
         },
         {
          "id": 373,
          "sale_price": 178299.44426365168,
          "type": "pred"
         },
         {
          "id": 374,
          "sale_price": 119341.1736318255,
          "type": "pred"
         },
         {
          "id": 375,
          "sale_price": 230464.36598830685,
          "type": "pred"
         },
         {
          "id": 376,
          "sale_price": 162986.33029634572,
          "type": "pred"
         },
         {
          "id": 377,
          "sale_price": 222705.79166017094,
          "type": "pred"
         },
         {
          "id": 378,
          "sale_price": 150927.90119225846,
          "type": "pred"
         },
         {
          "id": 379,
          "sale_price": 174496.71255344505,
          "type": "pred"
         },
         {
          "id": 380,
          "sale_price": 336763.0749651195,
          "type": "pred"
         },
         {
          "id": 381,
          "sale_price": 245292.70071332878,
          "type": "pred"
         },
         {
          "id": 382,
          "sale_price": 208899.45523776353,
          "type": "pred"
         },
         {
          "id": 383,
          "sale_price": 136169.52527988591,
          "type": "pred"
         },
         {
          "id": 384,
          "sale_price": 339382.4997388671,
          "type": "pred"
         },
         {
          "id": 385,
          "sale_price": 169073.02549605223,
          "type": "pred"
         },
         {
          "id": 386,
          "sale_price": 170290.78768178597,
          "type": "pred"
         },
         {
          "id": 387,
          "sale_price": 141925.48035359263,
          "type": "pred"
         },
         {
          "id": 388,
          "sale_price": 128394.86397460067,
          "type": "pred"
         },
         {
          "id": 389,
          "sale_price": 206492.2751528497,
          "type": "pred"
         },
         {
          "id": 390,
          "sale_price": 188300.4877962922,
          "type": "pred"
         },
         {
          "id": 391,
          "sale_price": 229929.52470314436,
          "type": "pred"
         },
         {
          "id": 392,
          "sale_price": 139383.45112832886,
          "type": "pred"
         },
         {
          "id": 393,
          "sale_price": 217541.74086800314,
          "type": "pred"
         },
         {
          "id": 394,
          "sale_price": 254023.97439488766,
          "type": "pred"
         },
         {
          "id": 395,
          "sale_price": 175471.18435124148,
          "type": "pred"
         },
         {
          "id": 396,
          "sale_price": 270204.07157826633,
          "type": "pred"
         },
         {
          "id": 397,
          "sale_price": 172552.30792753695,
          "type": "pred"
         },
         {
          "id": 398,
          "sale_price": 139103.24906864145,
          "type": "pred"
         },
         {
          "id": 399,
          "sale_price": 137979.35996924905,
          "type": "pred"
         },
         {
          "id": 400,
          "sale_price": 199166.38182797594,
          "type": "pred"
         },
         {
          "id": 401,
          "sale_price": 324726.39529485244,
          "type": "pred"
         },
         {
          "id": 402,
          "sale_price": 191130.70895776898,
          "type": "pred"
         },
         {
          "id": 403,
          "sale_price": 225380.04680793855,
          "type": "pred"
         },
         {
          "id": 404,
          "sale_price": 143107.21108968704,
          "type": "pred"
         },
         {
          "id": 405,
          "sale_price": 115031.497782566,
          "type": "pred"
         },
         {
          "id": 406,
          "sale_price": 185611.0224837211,
          "type": "pred"
         },
         {
          "id": 407,
          "sale_price": 101809.43475459564,
          "type": "pred"
         },
         {
          "id": 408,
          "sale_price": 236517.10380304046,
          "type": "pred"
         },
         {
          "id": 409,
          "sale_price": 138445.11049868143,
          "type": "pred"
         },
         {
          "id": 410,
          "sale_price": 127801.5439781517,
          "type": "pred"
         },
         {
          "id": 411,
          "sale_price": 208098.90198065437,
          "type": "pred"
         },
         {
          "id": 412,
          "sale_price": 131343.91615871372,
          "type": "pred"
         },
         {
          "id": 413,
          "sale_price": 146725.4038189439,
          "type": "pred"
         },
         {
          "id": 414,
          "sale_price": 153136.86191302107,
          "type": "pred"
         },
         {
          "id": 415,
          "sale_price": 170589.38631457166,
          "type": "pred"
         },
         {
          "id": 416,
          "sale_price": 129785.06972732545,
          "type": "pred"
         },
         {
          "id": 417,
          "sale_price": 276837.5441733338,
          "type": "pred"
         },
         {
          "id": 418,
          "sale_price": 146977.22306980903,
          "type": "pred"
         },
         {
          "id": 419,
          "sale_price": 155631.86799493703,
          "type": "pred"
         },
         {
          "id": 420,
          "sale_price": 102880.30831544731,
          "type": "pred"
         },
         {
          "id": 421,
          "sale_price": 121505.10800426776,
          "type": "pred"
         },
         {
          "id": 422,
          "sale_price": 151534.4825122429,
          "type": "pred"
         },
         {
          "id": 423,
          "sale_price": 281089.9247079762,
          "type": "pred"
         },
         {
          "id": 424,
          "sale_price": 212770.28227978852,
          "type": "pred"
         },
         {
          "id": 425,
          "sale_price": 217140.15369433066,
          "type": "pred"
         },
         {
          "id": 426,
          "sale_price": 150277.49299261085,
          "type": "pred"
         },
         {
          "id": 427,
          "sale_price": 150818.07811498386,
          "type": "pred"
         },
         {
          "id": 428,
          "sale_price": 146184.89145207222,
          "type": "pred"
         },
         {
          "id": 429,
          "sale_price": 204246.1913176649,
          "type": "pred"
         },
         {
          "id": 430,
          "sale_price": 157431.77353151585,
          "type": "pred"
         },
         {
          "id": 431,
          "sale_price": 156828.55631556208,
          "type": "pred"
         },
         {
          "id": 432,
          "sale_price": 76773.37097427723,
          "type": "pred"
         },
         {
          "id": 433,
          "sale_price": 332737.4010132451,
          "type": "pred"
         },
         {
          "id": 434,
          "sale_price": 236524.87464902306,
          "type": "pred"
         },
         {
          "id": 435,
          "sale_price": 162516.3850816614,
          "type": "pred"
         },
         {
          "id": 436,
          "sale_price": 185790.03863767596,
          "type": "pred"
         },
         {
          "id": 437,
          "sale_price": 127875.85125977574,
          "type": "pred"
         },
         {
          "id": 0,
          "sale_price": 132999.99999999997,
          "type": "true"
         },
         {
          "id": 1,
          "sale_price": 130500.00000000012,
          "type": "true"
         },
         {
          "id": 2,
          "sale_price": 228500.00000000003,
          "type": "true"
         },
         {
          "id": 3,
          "sale_price": 242000.00000000003,
          "type": "true"
         },
         {
          "id": 4,
          "sale_price": 165599.9999999999,
          "type": "true"
         },
         {
          "id": 5,
          "sale_price": 745000,
          "type": "true"
         },
         {
          "id": 6,
          "sale_price": 279999.9999999998,
          "type": "true"
         },
         {
          "id": 7,
          "sale_price": 117999.99999999991,
          "type": "true"
         },
         {
          "id": 8,
          "sale_price": 161999.99999999988,
          "type": "true"
         },
         {
          "id": 9,
          "sale_price": 184099.99999999997,
          "type": "true"
         },
         {
          "id": 10,
          "sale_price": 173999.99999999997,
          "type": "true"
         },
         {
          "id": 11,
          "sale_price": 146999.9999999999,
          "type": "true"
         },
         {
          "id": 12,
          "sale_price": 200000.00000000006,
          "type": "true"
         },
         {
          "id": 13,
          "sale_price": 191999.99999999994,
          "type": "true"
         },
         {
          "id": 14,
          "sale_price": 359999.99999999994,
          "type": "true"
         },
         {
          "id": 15,
          "sale_price": 184000,
          "type": "true"
         },
         {
          "id": 16,
          "sale_price": 191999.99999999994,
          "type": "true"
         },
         {
          "id": 17,
          "sale_price": 340000.00000000006,
          "type": "true"
         },
         {
          "id": 18,
          "sale_price": 138999.99999999994,
          "type": "true"
         },
         {
          "id": 19,
          "sale_price": 89471,
          "type": "true"
         },
         {
          "id": 20,
          "sale_price": 51999.99999999997,
          "type": "true"
         },
         {
          "id": 21,
          "sale_price": 221000.00000000006,
          "type": "true"
         },
         {
          "id": 22,
          "sale_price": 262499.9999999999,
          "type": "true"
         },
         {
          "id": 23,
          "sale_price": 263434.99999999977,
          "type": "true"
         },
         {
          "id": 24,
          "sale_price": 96999.99999999997,
          "type": "true"
         },
         {
          "id": 25,
          "sale_price": 197499.99999999997,
          "type": "true"
         },
         {
          "id": 26,
          "sale_price": 149499.99999999988,
          "type": "true"
         },
         {
          "id": 27,
          "sale_price": 200000.00000000006,
          "type": "true"
         },
         {
          "id": 28,
          "sale_price": 200499.99999999997,
          "type": "true"
         },
         {
          "id": 29,
          "sale_price": 135999.99999999988,
          "type": "true"
         },
         {
          "id": 30,
          "sale_price": 384999.9999999997,
          "type": "true"
         },
         {
          "id": 31,
          "sale_price": 250579.99999999983,
          "type": "true"
         },
         {
          "id": 32,
          "sale_price": 79499.99999999997,
          "type": "true"
         },
         {
          "id": 33,
          "sale_price": 122000.0000000001,
          "type": "true"
         },
         {
          "id": 34,
          "sale_price": 275000.00000000006,
          "type": "true"
         },
         {
          "id": 35,
          "sale_price": 284000.00000000023,
          "type": "true"
         },
         {
          "id": 36,
          "sale_price": 207000.0000000001,
          "type": "true"
         },
         {
          "id": 37,
          "sale_price": 234000,
          "type": "true"
         },
         {
          "id": 38,
          "sale_price": 169000.00000000012,
          "type": "true"
         },
         {
          "id": 39,
          "sale_price": 109500.00000000007,
          "type": "true"
         },
         {
          "id": 40,
          "sale_price": 122499.9999999999,
          "type": "true"
         },
         {
          "id": 41,
          "sale_price": 150499.9999999999,
          "type": "true"
         },
         {
          "id": 42,
          "sale_price": 146999.9999999999,
          "type": "true"
         },
         {
          "id": 43,
          "sale_price": 131500.0000000001,
          "type": "true"
         },
         {
          "id": 44,
          "sale_price": 108000,
          "type": "true"
         },
         {
          "id": 45,
          "sale_price": 183499.99999999985,
          "type": "true"
         },
         {
          "id": 46,
          "sale_price": 275000.00000000006,
          "type": "true"
         },
         {
          "id": 47,
          "sale_price": 211000.00000000017,
          "type": "true"
         },
         {
          "id": 48,
          "sale_price": 193499.99999999997,
          "type": "true"
         },
         {
          "id": 49,
          "sale_price": 137449.99999999988,
          "type": "true"
         },
         {
          "id": 50,
          "sale_price": 210000.0000000001,
          "type": "true"
         },
         {
          "id": 51,
          "sale_price": 219999.99999999985,
          "type": "true"
         },
         {
          "id": 52,
          "sale_price": 260399.99999999983,
          "type": "true"
         },
         {
          "id": 53,
          "sale_price": 165000.00000000006,
          "type": "true"
         },
         {
          "id": 54,
          "sale_price": 219499.99999999997,
          "type": "true"
         },
         {
          "id": 55,
          "sale_price": 324999.9999999999,
          "type": "true"
         },
         {
          "id": 56,
          "sale_price": 100000.00000000001,
          "type": "true"
         },
         {
          "id": 57,
          "sale_price": 136904.99999999997,
          "type": "true"
         },
         {
          "id": 58,
          "sale_price": 192999.99999999997,
          "type": "true"
         },
         {
          "id": 59,
          "sale_price": 319999.9999999998,
          "type": "true"
         },
         {
          "id": 60,
          "sale_price": 188499.99999999997,
          "type": "true"
         },
         {
          "id": 61,
          "sale_price": 79900.00000000003,
          "type": "true"
         },
         {
          "id": 62,
          "sale_price": 200999.99999999994,
          "type": "true"
         },
         {
          "id": 63,
          "sale_price": 205000,
          "type": "true"
         },
         {
          "id": 64,
          "sale_price": 135999.99999999988,
          "type": "true"
         },
         {
          "id": 65,
          "sale_price": 295000.00000000006,
          "type": "true"
         },
         {
          "id": 66,
          "sale_price": 124499.99999999993,
          "type": "true"
         },
         {
          "id": 67,
          "sale_price": 166000.00000000003,
          "type": "true"
         },
         {
          "id": 68,
          "sale_price": 189950.00000000012,
          "type": "true"
         },
         {
          "id": 69,
          "sale_price": 147999.9999999999,
          "type": "true"
         },
         {
          "id": 70,
          "sale_price": 106000.00000000004,
          "type": "true"
         },
         {
          "id": 71,
          "sale_price": 274724.99999999994,
          "type": "true"
         },
         {
          "id": 72,
          "sale_price": 159999.9999999999,
          "type": "true"
         },
         {
          "id": 73,
          "sale_price": 78000.00000000004,
          "type": "true"
         },
         {
          "id": 74,
          "sale_price": 137000.00000000012,
          "type": "true"
         },
         {
          "id": 75,
          "sale_price": 175499.99999999988,
          "type": "true"
         },
         {
          "id": 76,
          "sale_price": 72999.99999999997,
          "type": "true"
         },
         {
          "id": 77,
          "sale_price": 124999.99999999991,
          "type": "true"
         },
         {
          "id": 78,
          "sale_price": 250999.99999999983,
          "type": "true"
         },
         {
          "id": 79,
          "sale_price": 98000.00000000001,
          "type": "true"
         },
         {
          "id": 80,
          "sale_price": 155000,
          "type": "true"
         },
         {
          "id": 81,
          "sale_price": 170000,
          "type": "true"
         },
         {
          "id": 82,
          "sale_price": 179999.99999999997,
          "type": "true"
         },
         {
          "id": 83,
          "sale_price": 225000.00000000015,
          "type": "true"
         },
         {
          "id": 84,
          "sale_price": 377426.0000000003,
          "type": "true"
         },
         {
          "id": 85,
          "sale_price": 325624,
          "type": "true"
         },
         {
          "id": 86,
          "sale_price": 197000.00000000012,
          "type": "true"
         },
         {
          "id": 87,
          "sale_price": 146999.9999999999,
          "type": "true"
         },
         {
          "id": 88,
          "sale_price": 165000.00000000006,
          "type": "true"
         },
         {
          "id": 89,
          "sale_price": 179900,
          "type": "true"
         },
         {
          "id": 90,
          "sale_price": 171500.00000000003,
          "type": "true"
         },
         {
          "id": 91,
          "sale_price": 260000.00000000015,
          "type": "true"
         },
         {
          "id": 92,
          "sale_price": 100000.00000000001,
          "type": "true"
         },
         {
          "id": 93,
          "sale_price": 141000,
          "type": "true"
         },
         {
          "id": 94,
          "sale_price": 137000.00000000012,
          "type": "true"
         },
         {
          "id": 95,
          "sale_price": 133900,
          "type": "true"
         },
         {
          "id": 96,
          "sale_price": 95000.00000000006,
          "type": "true"
         },
         {
          "id": 97,
          "sale_price": 124999.99999999991,
          "type": "true"
         },
         {
          "id": 98,
          "sale_price": 149999.99999999994,
          "type": "true"
         },
         {
          "id": 99,
          "sale_price": 177999.99999999994,
          "type": "true"
         },
         {
          "id": 100,
          "sale_price": 100000.00000000001,
          "type": "true"
         },
         {
          "id": 101,
          "sale_price": 314999.99999999994,
          "type": "true"
         },
         {
          "id": 102,
          "sale_price": 79999.99999999994,
          "type": "true"
         },
         {
          "id": 103,
          "sale_price": 93000.00000000001,
          "type": "true"
         },
         {
          "id": 104,
          "sale_price": 88999.99999999996,
          "type": "true"
         },
         {
          "id": 105,
          "sale_price": 230000.0000000002,
          "type": "true"
         },
         {
          "id": 106,
          "sale_price": 184000,
          "type": "true"
         },
         {
          "id": 107,
          "sale_price": 194500.00000000003,
          "type": "true"
         },
         {
          "id": 108,
          "sale_price": 137999.99999999988,
          "type": "true"
         },
         {
          "id": 109,
          "sale_price": 177999.99999999994,
          "type": "true"
         },
         {
          "id": 110,
          "sale_price": 179999.99999999997,
          "type": "true"
         },
         {
          "id": 111,
          "sale_price": 212899.99999999985,
          "type": "true"
         },
         {
          "id": 112,
          "sale_price": 293077.00000000023,
          "type": "true"
         },
         {
          "id": 113,
          "sale_price": 128899.9999999999,
          "type": "true"
         },
         {
          "id": 114,
          "sale_price": 175000.00000000003,
          "type": "true"
         },
         {
          "id": 115,
          "sale_price": 131999.99999999994,
          "type": "true"
         },
         {
          "id": 116,
          "sale_price": 144000.00000000012,
          "type": "true"
         },
         {
          "id": 117,
          "sale_price": 82000.00000000007,
          "type": "true"
         },
         {
          "id": 118,
          "sale_price": 151999.99999999997,
          "type": "true"
         },
         {
          "id": 119,
          "sale_price": 170000,
          "type": "true"
         },
         {
          "id": 120,
          "sale_price": 138999.99999999994,
          "type": "true"
         },
         {
          "id": 121,
          "sale_price": 177000.00000000006,
          "type": "true"
         },
         {
          "id": 122,
          "sale_price": 138799.99999999997,
          "type": "true"
         },
         {
          "id": 123,
          "sale_price": 105000.00000000004,
          "type": "true"
         },
         {
          "id": 124,
          "sale_price": 175000.00000000003,
          "type": "true"
         },
         {
          "id": 125,
          "sale_price": 277999.9999999999,
          "type": "true"
         },
         {
          "id": 126,
          "sale_price": 128000.00000000004,
          "type": "true"
         },
         {
          "id": 127,
          "sale_price": 145999.99999999994,
          "type": "true"
         },
         {
          "id": 128,
          "sale_price": 190000.00000000012,
          "type": "true"
         },
         {
          "id": 129,
          "sale_price": 125499.99999999991,
          "type": "true"
         },
         {
          "id": 130,
          "sale_price": 223500,
          "type": "true"
         },
         {
          "id": 131,
          "sale_price": 112500.00000000006,
          "type": "true"
         },
         {
          "id": 132,
          "sale_price": 130500.00000000012,
          "type": "true"
         },
         {
          "id": 133,
          "sale_price": 289999.9999999999,
          "type": "true"
         },
         {
          "id": 134,
          "sale_price": 275000.00000000006,
          "type": "true"
         },
         {
          "id": 135,
          "sale_price": 314999.99999999994,
          "type": "true"
         },
         {
          "id": 136,
          "sale_price": 126999.99999999996,
          "type": "true"
         },
         {
          "id": 137,
          "sale_price": 119500,
          "type": "true"
         },
         {
          "id": 138,
          "sale_price": 180999.99999999985,
          "type": "true"
         },
         {
          "id": 139,
          "sale_price": 163000.00000000012,
          "type": "true"
         },
         {
          "id": 140,
          "sale_price": 166999.99999999985,
          "type": "true"
         },
         {
          "id": 141,
          "sale_price": 284000.00000000023,
          "type": "true"
         },
         {
          "id": 142,
          "sale_price": 115000.00000000009,
          "type": "true"
         },
         {
          "id": 143,
          "sale_price": 137999.99999999988,
          "type": "true"
         },
         {
          "id": 144,
          "sale_price": 166000.00000000003,
          "type": "true"
         },
         {
          "id": 145,
          "sale_price": 129899.99999999996,
          "type": "true"
         },
         {
          "id": 146,
          "sale_price": 102999.99999999999,
          "type": "true"
         },
         {
          "id": 147,
          "sale_price": 152999.99999999994,
          "type": "true"
         },
         {
          "id": 148,
          "sale_price": 185000.00000000006,
          "type": "true"
         },
         {
          "id": 149,
          "sale_price": 339749.99999999977,
          "type": "true"
         },
         {
          "id": 150,
          "sale_price": 167999.99999999994,
          "type": "true"
         },
         {
          "id": 151,
          "sale_price": 289000,
          "type": "true"
         },
         {
          "id": 152,
          "sale_price": 163500.00000000012,
          "type": "true"
         },
         {
          "id": 153,
          "sale_price": 129899.99999999996,
          "type": "true"
         },
         {
          "id": 154,
          "sale_price": 232000.00000000015,
          "type": "true"
         },
         {
          "id": 155,
          "sale_price": 144999.99999999994,
          "type": "true"
         },
         {
          "id": 156,
          "sale_price": 297000,
          "type": "true"
         },
         {
          "id": 157,
          "sale_price": 109900.00000000003,
          "type": "true"
         },
         {
          "id": 158,
          "sale_price": 336999.9999999999,
          "type": "true"
         },
         {
          "id": 159,
          "sale_price": 161999.99999999988,
          "type": "true"
         },
         {
          "id": 160,
          "sale_price": 134500.00000000006,
          "type": "true"
         },
         {
          "id": 161,
          "sale_price": 124499.99999999993,
          "type": "true"
         },
         {
          "id": 162,
          "sale_price": 184899.9999999999,
          "type": "true"
         },
         {
          "id": 163,
          "sale_price": 172999.99999999985,
          "type": "true"
         },
         {
          "id": 164,
          "sale_price": 176000.00000000003,
          "type": "true"
         },
         {
          "id": 165,
          "sale_price": 84500.00000000004,
          "type": "true"
         },
         {
          "id": 166,
          "sale_price": 179900,
          "type": "true"
         },
         {
          "id": 167,
          "sale_price": 176000.00000000003,
          "type": "true"
         },
         {
          "id": 168,
          "sale_price": 136500.0000000001,
          "type": "true"
         },
         {
          "id": 169,
          "sale_price": 131999.99999999994,
          "type": "true"
         },
         {
          "id": 170,
          "sale_price": 582933,
          "type": "true"
         },
         {
          "id": 171,
          "sale_price": 316999.9999999998,
          "type": "true"
         },
         {
          "id": 172,
          "sale_price": 126999.99999999996,
          "type": "true"
         },
         {
          "id": 173,
          "sale_price": 131500.0000000001,
          "type": "true"
         },
         {
          "id": 174,
          "sale_price": 139999.9999999999,
          "type": "true"
         },
         {
          "id": 175,
          "sale_price": 139999.9999999999,
          "type": "true"
         },
         {
          "id": 176,
          "sale_price": 146999.9999999999,
          "type": "true"
         },
         {
          "id": 177,
          "sale_price": 109999.99999999991,
          "type": "true"
         },
         {
          "id": 178,
          "sale_price": 123600.00000000001,
          "type": "true"
         },
         {
          "id": 179,
          "sale_price": 281212.9999999998,
          "type": "true"
         },
         {
          "id": 180,
          "sale_price": 232000.00000000015,
          "type": "true"
         },
         {
          "id": 181,
          "sale_price": 142500,
          "type": "true"
         },
         {
          "id": 182,
          "sale_price": 155835.00000000012,
          "type": "true"
         },
         {
          "id": 183,
          "sale_price": 115000.00000000009,
          "type": "true"
         },
         {
          "id": 184,
          "sale_price": 180999.99999999985,
          "type": "true"
         },
         {
          "id": 185,
          "sale_price": 200000.00000000006,
          "type": "true"
         },
         {
          "id": 186,
          "sale_price": 158000.00000000012,
          "type": "true"
         },
         {
          "id": 187,
          "sale_price": 175899.99999999988,
          "type": "true"
         },
         {
          "id": 188,
          "sale_price": 109999.99999999991,
          "type": "true"
         },
         {
          "id": 189,
          "sale_price": 52500.000000000015,
          "type": "true"
         },
         {
          "id": 190,
          "sale_price": 319000.0000000001,
          "type": "true"
         },
         {
          "id": 191,
          "sale_price": 127499.99999999991,
          "type": "true"
         },
         {
          "id": 192,
          "sale_price": 110500.00000000003,
          "type": "true"
         },
         {
          "id": 193,
          "sale_price": 216499.99999999988,
          "type": "true"
         },
         {
          "id": 194,
          "sale_price": 187000.00000000017,
          "type": "true"
         },
         {
          "id": 195,
          "sale_price": 144999.99999999994,
          "type": "true"
         },
         {
          "id": 196,
          "sale_price": 169900.00000000015,
          "type": "true"
         },
         {
          "id": 197,
          "sale_price": 240000.00000000015,
          "type": "true"
         },
         {
          "id": 198,
          "sale_price": 235999.99999999983,
          "type": "true"
         },
         {
          "id": 199,
          "sale_price": 242000.00000000003,
          "type": "true"
         },
         {
          "id": 200,
          "sale_price": 132999.99999999997,
          "type": "true"
         },
         {
          "id": 201,
          "sale_price": 109999.99999999991,
          "type": "true"
         },
         {
          "id": 202,
          "sale_price": 155000,
          "type": "true"
         },
         {
          "id": 203,
          "sale_price": 124999.99999999991,
          "type": "true"
         },
         {
          "id": 204,
          "sale_price": 106500,
          "type": "true"
         },
         {
          "id": 205,
          "sale_price": 193999.99999999997,
          "type": "true"
         },
         {
          "id": 206,
          "sale_price": 190999.99999999997,
          "type": "true"
         },
         {
          "id": 207,
          "sale_price": 91500.00000000001,
          "type": "true"
         },
         {
          "id": 208,
          "sale_price": 109500.00000000007,
          "type": "true"
         },
         {
          "id": 209,
          "sale_price": 131999.99999999994,
          "type": "true"
         },
         {
          "id": 210,
          "sale_price": 204000.00000000006,
          "type": "true"
         },
         {
          "id": 211,
          "sale_price": 217000.00000000017,
          "type": "true"
         },
         {
          "id": 212,
          "sale_price": 113000,
          "type": "true"
         },
         {
          "id": 213,
          "sale_price": 113000,
          "type": "true"
         },
         {
          "id": 214,
          "sale_price": 109999.99999999991,
          "type": "true"
         },
         {
          "id": 215,
          "sale_price": 328900.00000000006,
          "type": "true"
         },
         {
          "id": 216,
          "sale_price": 151999.99999999997,
          "type": "true"
         },
         {
          "id": 217,
          "sale_price": 117000,
          "type": "true"
         },
         {
          "id": 218,
          "sale_price": 79000.00000000006,
          "type": "true"
         },
         {
          "id": 219,
          "sale_price": 190000.00000000012,
          "type": "true"
         },
         {
          "id": 220,
          "sale_price": 163000.00000000012,
          "type": "true"
         },
         {
          "id": 221,
          "sale_price": 122499.9999999999,
          "type": "true"
         },
         {
          "id": 222,
          "sale_price": 137500,
          "type": "true"
         },
         {
          "id": 223,
          "sale_price": 109999.99999999991,
          "type": "true"
         },
         {
          "id": 224,
          "sale_price": 102000.00000000003,
          "type": "true"
         },
         {
          "id": 225,
          "sale_price": 124999.99999999991,
          "type": "true"
         },
         {
          "id": 226,
          "sale_price": 154900.00000000006,
          "type": "true"
         },
         {
          "id": 227,
          "sale_price": 123000.00000000003,
          "type": "true"
         },
         {
          "id": 228,
          "sale_price": 142000.00000000012,
          "type": "true"
         },
         {
          "id": 229,
          "sale_price": 130000.00000000006,
          "type": "true"
         },
         {
          "id": 230,
          "sale_price": 283462.9999999998,
          "type": "true"
         },
         {
          "id": 231,
          "sale_price": 161999.99999999988,
          "type": "true"
         },
         {
          "id": 232,
          "sale_price": 223500,
          "type": "true"
         },
         {
          "id": 233,
          "sale_price": 98600.00000000003,
          "type": "true"
         },
         {
          "id": 234,
          "sale_price": 156999.9999999999,
          "type": "true"
         },
         {
          "id": 235,
          "sale_price": 375000.0000000002,
          "type": "true"
         },
         {
          "id": 236,
          "sale_price": 215000.00000000006,
          "type": "true"
         },
         {
          "id": 237,
          "sale_price": 88000.00000000001,
          "type": "true"
         },
         {
          "id": 238,
          "sale_price": 156000.00000000012,
          "type": "true"
         },
         {
          "id": 239,
          "sale_price": 114500.0000000001,
          "type": "true"
         },
         {
          "id": 240,
          "sale_price": 127499.99999999991,
          "type": "true"
         },
         {
          "id": 241,
          "sale_price": 149299.9999999999,
          "type": "true"
         },
         {
          "id": 242,
          "sale_price": 215000.00000000006,
          "type": "true"
         },
         {
          "id": 243,
          "sale_price": 152999.99999999994,
          "type": "true"
         },
         {
          "id": 244,
          "sale_price": 185000.00000000006,
          "type": "true"
         },
         {
          "id": 245,
          "sale_price": 159894.99999999994,
          "type": "true"
         },
         {
          "id": 246,
          "sale_price": 185850.0000000001,
          "type": "true"
         },
         {
          "id": 247,
          "sale_price": 253293.0000000001,
          "type": "true"
         },
         {
          "id": 248,
          "sale_price": 129499.99999999991,
          "type": "true"
         },
         {
          "id": 249,
          "sale_price": 124999.99999999991,
          "type": "true"
         },
         {
          "id": 250,
          "sale_price": 179999.99999999997,
          "type": "true"
         },
         {
          "id": 251,
          "sale_price": 131500.0000000001,
          "type": "true"
         },
         {
          "id": 252,
          "sale_price": 138999.99999999994,
          "type": "true"
         },
         {
          "id": 253,
          "sale_price": 334999.9999999998,
          "type": "true"
         },
         {
          "id": 254,
          "sale_price": 156932.00000000012,
          "type": "true"
         },
         {
          "id": 255,
          "sale_price": 177000.00000000006,
          "type": "true"
         },
         {
          "id": 256,
          "sale_price": 54999.99999999995,
          "type": "true"
         },
         {
          "id": 257,
          "sale_price": 203000.0000000001,
          "type": "true"
         },
         {
          "id": 258,
          "sale_price": 216000.00000000003,
          "type": "true"
         },
         {
          "id": 259,
          "sale_price": 135000.00000000012,
          "type": "true"
         },
         {
          "id": 260,
          "sale_price": 113000,
          "type": "true"
         },
         {
          "id": 261,
          "sale_price": 167239.99999999985,
          "type": "true"
         },
         {
          "id": 262,
          "sale_price": 120000.00000000006,
          "type": "true"
         },
         {
          "id": 263,
          "sale_price": 241499.99999999983,
          "type": "true"
         },
         {
          "id": 264,
          "sale_price": 153499.9999999999,
          "type": "true"
         },
         {
          "id": 265,
          "sale_price": 153499.9999999999,
          "type": "true"
         },
         {
          "id": 266,
          "sale_price": 138999.99999999994,
          "type": "true"
         },
         {
          "id": 267,
          "sale_price": 261500.00000000023,
          "type": "true"
         },
         {
          "id": 268,
          "sale_price": 169989.99999999985,
          "type": "true"
         },
         {
          "id": 269,
          "sale_price": 123000.00000000003,
          "type": "true"
         },
         {
          "id": 270,
          "sale_price": 185899.99999999994,
          "type": "true"
         },
         {
          "id": 271,
          "sale_price": 184749.99999999985,
          "type": "true"
         },
         {
          "id": 272,
          "sale_price": 217999.9999999999,
          "type": "true"
         },
         {
          "id": 273,
          "sale_price": 207499.99999999985,
          "type": "true"
         },
         {
          "id": 274,
          "sale_price": 430000.0000000002,
          "type": "true"
         },
         {
          "id": 275,
          "sale_price": 210000.0000000001,
          "type": "true"
         },
         {
          "id": 276,
          "sale_price": 142999.9999999999,
          "type": "true"
         },
         {
          "id": 277,
          "sale_price": 188000.00000000012,
          "type": "true"
         },
         {
          "id": 278,
          "sale_price": 381000.00000000035,
          "type": "true"
         },
         {
          "id": 279,
          "sale_price": 213250.00000000015,
          "type": "true"
         },
         {
          "id": 280,
          "sale_price": 204749.99999999997,
          "type": "true"
         },
         {
          "id": 281,
          "sale_price": 136500.0000000001,
          "type": "true"
         },
         {
          "id": 282,
          "sale_price": 105899.99999999996,
          "type": "true"
         },
         {
          "id": 283,
          "sale_price": 234999.99999999994,
          "type": "true"
         },
         {
          "id": 284,
          "sale_price": 263000.00000000023,
          "type": "true"
         },
         {
          "id": 285,
          "sale_price": 130000.00000000006,
          "type": "true"
         },
         {
          "id": 286,
          "sale_price": 111250.00000000004,
          "type": "true"
         },
         {
          "id": 287,
          "sale_price": 128000.00000000004,
          "type": "true"
         },
         {
          "id": 288,
          "sale_price": 202900.0000000001,
          "type": "true"
         },
         {
          "id": 289,
          "sale_price": 139999.9999999999,
          "type": "true"
         },
         {
          "id": 290,
          "sale_price": 135499.99999999997,
          "type": "true"
         },
         {
          "id": 291,
          "sale_price": 151999.99999999997,
          "type": "true"
         },
         {
          "id": 292,
          "sale_price": 193999.99999999997,
          "type": "true"
         },
         {
          "id": 293,
          "sale_price": 754999.9999999999,
          "type": "true"
         },
         {
          "id": 294,
          "sale_price": 287090.00000000006,
          "type": "true"
         },
         {
          "id": 295,
          "sale_price": 118500,
          "type": "true"
         },
         {
          "id": 296,
          "sale_price": 266500.00000000006,
          "type": "true"
         },
         {
          "id": 297,
          "sale_price": 198500,
          "type": "true"
         },
         {
          "id": 298,
          "sale_price": 144999.99999999994,
          "type": "true"
         },
         {
          "id": 299,
          "sale_price": 117999.99999999991,
          "type": "true"
         },
         {
          "id": 300,
          "sale_price": 82000.00000000007,
          "type": "true"
         },
         {
          "id": 301,
          "sale_price": 265999.99999999994,
          "type": "true"
         },
         {
          "id": 302,
          "sale_price": 89499.99999999997,
          "type": "true"
         },
         {
          "id": 303,
          "sale_price": 159999.9999999999,
          "type": "true"
         },
         {
          "id": 304,
          "sale_price": 126000.00000000007,
          "type": "true"
         },
         {
          "id": 305,
          "sale_price": 175499.99999999988,
          "type": "true"
         },
         {
          "id": 306,
          "sale_price": 149999.99999999994,
          "type": "true"
         },
         {
          "id": 307,
          "sale_price": 240000.00000000015,
          "type": "true"
         },
         {
          "id": 308,
          "sale_price": 34900.00000000001,
          "type": "true"
         },
         {
          "id": 309,
          "sale_price": 213000.00000000003,
          "type": "true"
         },
         {
          "id": 310,
          "sale_price": 107500.00000000003,
          "type": "true"
         },
         {
          "id": 311,
          "sale_price": 239685.99999999994,
          "type": "true"
         },
         {
          "id": 312,
          "sale_price": 256299.99999999983,
          "type": "true"
         },
         {
          "id": 313,
          "sale_price": 426000.00000000006,
          "type": "true"
         },
         {
          "id": 314,
          "sale_price": 177000.00000000006,
          "type": "true"
         },
         {
          "id": 315,
          "sale_price": 179399.9999999999,
          "type": "true"
         },
         {
          "id": 316,
          "sale_price": 229456.0000000001,
          "type": "true"
         },
         {
          "id": 317,
          "sale_price": 124499.99999999993,
          "type": "true"
         },
         {
          "id": 318,
          "sale_price": 147999.9999999999,
          "type": "true"
         },
         {
          "id": 319,
          "sale_price": 128500.0000000001,
          "type": "true"
         },
         {
          "id": 320,
          "sale_price": 136500.0000000001,
          "type": "true"
         },
         {
          "id": 321,
          "sale_price": 147999.9999999999,
          "type": "true"
         },
         {
          "id": 322,
          "sale_price": 117000,
          "type": "true"
         },
         {
          "id": 323,
          "sale_price": 204000.00000000006,
          "type": "true"
         },
         {
          "id": 324,
          "sale_price": 85000,
          "type": "true"
         },
         {
          "id": 325,
          "sale_price": 126000.00000000007,
          "type": "true"
         },
         {
          "id": 326,
          "sale_price": 138999.99999999994,
          "type": "true"
         },
         {
          "id": 327,
          "sale_price": 208500.00000000012,
          "type": "true"
         },
         {
          "id": 328,
          "sale_price": 146800.00000000003,
          "type": "true"
         },
         {
          "id": 329,
          "sale_price": 380000.0000000003,
          "type": "true"
         },
         {
          "id": 330,
          "sale_price": 187500.00000000006,
          "type": "true"
         },
         {
          "id": 331,
          "sale_price": 286999.99999999977,
          "type": "true"
         },
         {
          "id": 332,
          "sale_price": 202500.00000000003,
          "type": "true"
         },
         {
          "id": 333,
          "sale_price": 35311.000000000015,
          "type": "true"
         },
         {
          "id": 334,
          "sale_price": 163899.99999999994,
          "type": "true"
         },
         {
          "id": 335,
          "sale_price": 230000.0000000002,
          "type": "true"
         },
         {
          "id": 336,
          "sale_price": 259500.0000000001,
          "type": "true"
         },
         {
          "id": 337,
          "sale_price": 124900.00000000004,
          "type": "true"
         },
         {
          "id": 338,
          "sale_price": 247999.9999999998,
          "type": "true"
         },
         {
          "id": 339,
          "sale_price": 138999.99999999994,
          "type": "true"
         },
         {
          "id": 340,
          "sale_price": 176432.0000000001,
          "type": "true"
         },
         {
          "id": 341,
          "sale_price": 159500.00000000006,
          "type": "true"
         },
         {
          "id": 342,
          "sale_price": 94499.99999999999,
          "type": "true"
         },
         {
          "id": 343,
          "sale_price": 106000.00000000004,
          "type": "true"
         },
         {
          "id": 344,
          "sale_price": 340000.00000000006,
          "type": "true"
         },
         {
          "id": 345,
          "sale_price": 315750.0000000002,
          "type": "true"
         },
         {
          "id": 346,
          "sale_price": 256000.00000000012,
          "type": "true"
         },
         {
          "id": 347,
          "sale_price": 202500.00000000003,
          "type": "true"
         },
         {
          "id": 348,
          "sale_price": 67000.00000000001,
          "type": "true"
         },
         {
          "id": 349,
          "sale_price": 189000,
          "type": "true"
         },
         {
          "id": 350,
          "sale_price": 109999.99999999991,
          "type": "true"
         },
         {
          "id": 351,
          "sale_price": 221499.99999999994,
          "type": "true"
         },
         {
          "id": 352,
          "sale_price": 151999.99999999997,
          "type": "true"
         },
         {
          "id": 353,
          "sale_price": 226000.00000000003,
          "type": "true"
         },
         {
          "id": 354,
          "sale_price": 109999.99999999991,
          "type": "true"
         },
         {
          "id": 355,
          "sale_price": 158000.00000000012,
          "type": "true"
         },
         {
          "id": 356,
          "sale_price": 112500.00000000006,
          "type": "true"
         },
         {
          "id": 357,
          "sale_price": 124999.99999999991,
          "type": "true"
         },
         {
          "id": 358,
          "sale_price": 415297.9999999998,
          "type": "true"
         },
         {
          "id": 359,
          "sale_price": 185000.00000000006,
          "type": "true"
         },
         {
          "id": 360,
          "sale_price": 161500.00000000006,
          "type": "true"
         },
         {
          "id": 361,
          "sale_price": 171750.00000000003,
          "type": "true"
         },
         {
          "id": 362,
          "sale_price": 118400.00000000004,
          "type": "true"
         },
         {
          "id": 363,
          "sale_price": 401999.99999999994,
          "type": "true"
         },
         {
          "id": 364,
          "sale_price": 200000.00000000006,
          "type": "true"
         },
         {
          "id": 365,
          "sale_price": 214000.0000000001,
          "type": "true"
         },
         {
          "id": 366,
          "sale_price": 314813.00000000006,
          "type": "true"
         },
         {
          "id": 367,
          "sale_price": 173999.99999999997,
          "type": "true"
         },
         {
          "id": 368,
          "sale_price": 300999.9999999998,
          "type": "true"
         },
         {
          "id": 369,
          "sale_price": 208899.99999999988,
          "type": "true"
         },
         {
          "id": 370,
          "sale_price": 240000.00000000015,
          "type": "true"
         },
         {
          "id": 371,
          "sale_price": 116500.00000000001,
          "type": "true"
         },
         {
          "id": 372,
          "sale_price": 226999.9999999998,
          "type": "true"
         },
         {
          "id": 373,
          "sale_price": 173900.00000000012,
          "type": "true"
         },
         {
          "id": 374,
          "sale_price": 105000.00000000004,
          "type": "true"
         },
         {
          "id": 375,
          "sale_price": 241499.99999999983,
          "type": "true"
         },
         {
          "id": 376,
          "sale_price": 161999.99999999988,
          "type": "true"
         },
         {
          "id": 377,
          "sale_price": 233000.00000000006,
          "type": "true"
         },
         {
          "id": 378,
          "sale_price": 165000.00000000006,
          "type": "true"
         },
         {
          "id": 379,
          "sale_price": 175000.00000000003,
          "type": "true"
         },
         {
          "id": 380,
          "sale_price": 324999.9999999999,
          "type": "true"
         },
         {
          "id": 381,
          "sale_price": 239000.00000000003,
          "type": "true"
         },
         {
          "id": 382,
          "sale_price": 197900.00000000003,
          "type": "true"
         },
         {
          "id": 383,
          "sale_price": 130000.00000000006,
          "type": "true"
         },
         {
          "id": 384,
          "sale_price": 337500,
          "type": "true"
         },
         {
          "id": 385,
          "sale_price": 210000.0000000001,
          "type": "true"
         },
         {
          "id": 386,
          "sale_price": 144999.99999999994,
          "type": "true"
         },
         {
          "id": 387,
          "sale_price": 144000.00000000012,
          "type": "true"
         },
         {
          "id": 388,
          "sale_price": 143250.00000000012,
          "type": "true"
         },
         {
          "id": 389,
          "sale_price": 217000.00000000017,
          "type": "true"
         },
         {
          "id": 390,
          "sale_price": 188700.00000000006,
          "type": "true"
         },
         {
          "id": 391,
          "sale_price": 235999.99999999983,
          "type": "true"
         },
         {
          "id": 392,
          "sale_price": 151500.00000000003,
          "type": "true"
         },
         {
          "id": 393,
          "sale_price": 213000.00000000003,
          "type": "true"
         },
         {
          "id": 394,
          "sale_price": 252000.00000000017,
          "type": "true"
         },
         {
          "id": 395,
          "sale_price": 179540.00000000003,
          "type": "true"
         },
         {
          "id": 396,
          "sale_price": 285000,
          "type": "true"
         },
         {
          "id": 397,
          "sale_price": 165499.99999999994,
          "type": "true"
         },
         {
          "id": 398,
          "sale_price": 139999.9999999999,
          "type": "true"
         },
         {
          "id": 399,
          "sale_price": 138500.0000000001,
          "type": "true"
         },
         {
          "id": 400,
          "sale_price": 176000.00000000003,
          "type": "true"
         },
         {
          "id": 401,
          "sale_price": 361918.9999999999,
          "type": "true"
         },
         {
          "id": 402,
          "sale_price": 179600,
          "type": "true"
         },
         {
          "id": 403,
          "sale_price": 271999.9999999998,
          "type": "true"
         },
         {
          "id": 404,
          "sale_price": 144000.00000000012,
          "type": "true"
         },
         {
          "id": 405,
          "sale_price": 135750.00000000003,
          "type": "true"
         },
         {
          "id": 406,
          "sale_price": 196000.00000000006,
          "type": "true"
         },
         {
          "id": 407,
          "sale_price": 117999.99999999991,
          "type": "true"
         },
         {
          "id": 408,
          "sale_price": 227999.9999999998,
          "type": "true"
         },
         {
          "id": 409,
          "sale_price": 134449.99999999988,
          "type": "true"
         },
         {
          "id": 410,
          "sale_price": 124000.0000000001,
          "type": "true"
         },
         {
          "id": 411,
          "sale_price": 231499.99999999994,
          "type": "true"
         },
         {
          "id": 412,
          "sale_price": 135000.00000000012,
          "type": "true"
         },
         {
          "id": 413,
          "sale_price": 151000.0000000001,
          "type": "true"
         },
         {
          "id": 414,
          "sale_price": 165499.99999999994,
          "type": "true"
         },
         {
          "id": 415,
          "sale_price": 122000.0000000001,
          "type": "true"
         },
         {
          "id": 416,
          "sale_price": 136500.0000000001,
          "type": "true"
         },
         {
          "id": 417,
          "sale_price": 280999.9999999998,
          "type": "true"
         },
         {
          "id": 418,
          "sale_price": 128000.00000000004,
          "type": "true"
         },
         {
          "id": 419,
          "sale_price": 162499.9999999999,
          "type": "true"
         },
         {
          "id": 420,
          "sale_price": 88000.00000000001,
          "type": "true"
         },
         {
          "id": 421,
          "sale_price": 128000.00000000004,
          "type": "true"
         },
         {
          "id": 422,
          "sale_price": 156999.9999999999,
          "type": "true"
         },
         {
          "id": 423,
          "sale_price": 392500.0000000001,
          "type": "true"
         },
         {
          "id": 424,
          "sale_price": 227874.99999999988,
          "type": "true"
         },
         {
          "id": 425,
          "sale_price": 224899.99999999988,
          "type": "true"
         },
         {
          "id": 426,
          "sale_price": 162900.0000000001,
          "type": "true"
         },
         {
          "id": 427,
          "sale_price": 158999.99999999997,
          "type": "true"
         },
         {
          "id": 428,
          "sale_price": 130999.99999999993,
          "type": "true"
         },
         {
          "id": 429,
          "sale_price": 239000.00000000003,
          "type": "true"
         },
         {
          "id": 430,
          "sale_price": 177000.00000000006,
          "type": "true"
         },
         {
          "id": 431,
          "sale_price": 149899.99999999994,
          "type": "true"
         },
         {
          "id": 432,
          "sale_price": 80499.99999999999,
          "type": "true"
         },
         {
          "id": 433,
          "sale_price": 325300.0000000001,
          "type": "true"
         },
         {
          "id": 434,
          "sale_price": 249999.99999999983,
          "type": "true"
         },
         {
          "id": 435,
          "sale_price": 180999.99999999985,
          "type": "true"
         },
         {
          "id": 436,
          "sale_price": 175000.00000000003,
          "type": "true"
         },
         {
          "id": 437,
          "sale_price": 128000.00000000004,
          "type": "true"
         }
        ]
       },
       "height": 300,
       "layer": [
        {
         "data": {
          "name": "data-c182c41331357aac68a797a44a5f8dc0"
         },
         "encoding": {
          "color": {
           "field": "type",
           "type": "nominal"
          },
          "x": {
           "field": "id",
           "type": "quantitative"
          },
          "y": {
           "field": "sale_price",
           "type": "quantitative"
          }
         },
         "mark": {
          "opacity": 0.4,
          "type": "line"
         },
         "selection": {
          "selector014": {
           "bind": "scales",
           "encodings": [
            "x",
            "y"
           ],
           "type": "interval"
          }
         }
        },
        {
         "data": {
          "name": "data-8f080c773c0fe0e5fc44c5a62b4ec227"
         },
         "encoding": {
          "x": {
           "field": "id",
           "scale": {
            "domain": [
             10,
             400
            ]
           },
           "type": "quantitative"
          },
          "y": {
           "field": "pred-true",
           "type": "quantitative"
          }
         },
         "mark": {
          "type": "bar",
          "width": 2
         }
        }
       ],
       "width": 1300
      },
      "image/png": "[encoded data removed]",
      "text/plain": [
       "<VegaLite 4 object>\n",
       "\n",
       "If you see this message, it means the renderer has not been properly enabled\n",
       "for the frontend that you are using. For more information, see\n",
       "https://altair-viz.github.io/user_guide/troubleshooting.html\n"
      ]
     },
     "execution_count": 24,
     "metadata": {},
     "output_type": "execute_result"
    }
   ],
   "source": [
    "# line plot of y_pred and y_true\n",
    "plot_line = alt.Chart(df_viz_melt).mark_line(opacity=0.4).encode(\n",
    "    x='id',\n",
    "    y='sale_price',\n",
    "    color='type'\n",
    ")\n",
    "\n",
    "# bar plot of diff between pred and true\n",
    "plot_bar = alt.Chart(df_viz).mark_bar(width=2).encode(\n",
    "    x=alt.X('id', scale=alt.Scale(domain=(10, 400))),\n",
    "#     x='id',\n",
    "    y='pred-true'\n",
    ")\n",
    "\n",
    "# aggregated plot\n",
    "(plot_line + plot_bar).properties(\n",
    "    width=1300,\n",
    "    height=300\n",
    ").interactive()"
   ]
  },
  {
   "cell_type": "markdown",
   "metadata": {},
   "source": [
    "### looks good yo"
   ]
  },
  {
   "cell_type": "code",
   "execution_count": null,
   "metadata": {},
   "outputs": [],
   "source": []
  }
 ],
 "metadata": {
  "kernelspec": {
   "display_name": "Python 3",
   "language": "python",
   "name": "python3"
  },
  "language_info": {
   "codemirror_mode": {
    "name": "ipython",
    "version": 3
   },
   "file_extension": ".py",
   "mimetype": "text/x-python",
   "name": "python",
   "nbconvert_exporter": "python",
   "pygments_lexer": "ipython3",
   "version": "3.7.5"
  }
 },
 "nbformat": 4,
 "nbformat_minor": 4
}
